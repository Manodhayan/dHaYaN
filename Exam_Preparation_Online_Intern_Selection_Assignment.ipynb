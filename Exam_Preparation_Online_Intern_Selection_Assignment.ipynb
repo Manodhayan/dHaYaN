{
  "nbformat": 4,
  "nbformat_minor": 0,
  "metadata": {
    "colab": {
      "name": "Exam Preparation Online Intern Selection Assignment.ipynb",
      "version": "0.3.2",
      "provenance": [],
      "include_colab_link": true
    }
  },
  "cells": [
    {
      "cell_type": "markdown",
      "metadata": {
        "id": "view-in-github",
        "colab_type": "text"
      },
      "source": [
        "[View in Colaboratory](https://colab.research.google.com/github/Manodhayan/dHaYaN/blob/master/Exam_Preparation_Online_Intern_Selection_Assignment.ipynb)"
      ]
    },
    {
      "metadata": {
        "id": "xgFA50HuUqZJ",
        "colab_type": "text"
      },
      "cell_type": "markdown",
      "source": [
        "# Exam Preparation Online Intern Selection Assignment"
      ]
    },
    {
      "metadata": {
        "id": "_aXWQC9KiCaa",
        "colab_type": "text"
      },
      "cell_type": "markdown",
      "source": [
        "### References\n"
      ]
    },
    {
      "metadata": {
        "id": "H6buAceGiMDg",
        "colab_type": "code",
        "colab": {}
      },
      "cell_type": "code",
      "source": [
        "# https://gist.github.com/jmcarp/7105045\n",
        "# https://github.com/shakkaist/Python/blob/master/Day2Session2/pdfconverter.py\n",
        "# https://www.geeksforgeeks.org/working-with-pdf-files-in-python/\n",
        "# https://github.com/csurfer/rake-nltk"
      ],
      "execution_count": 0,
      "outputs": []
    },
    {
      "metadata": {
        "id": "sINk4O-KRjcK",
        "colab_type": "text"
      },
      "cell_type": "markdown",
      "source": [
        "### Installing Required Packages"
      ]
    },
    {
      "metadata": {
        "id": "ZLQ5-WJQUpIL",
        "colab_type": "code",
        "colab": {}
      },
      "cell_type": "code",
      "source": [
        "!pip install PyPDF2\n",
        "!pip install rake-nltk\n",
        "!pip install summa\n",
        "import nltk\n",
        "nltk.download('stopwords')"
      ],
      "execution_count": 0,
      "outputs": []
    },
    {
      "metadata": {
        "id": "xfH2X4fWRurF",
        "colab_type": "text"
      },
      "cell_type": "markdown",
      "source": [
        "### Accessing Data from GDrive"
      ]
    },
    {
      "metadata": {
        "id": "Joj6ibTdV5LC",
        "colab_type": "code",
        "colab": {}
      },
      "cell_type": "code",
      "source": [
        "!pip install -U -q PyDrive\n",
        " \n",
        "from pydrive.auth import GoogleAuth\n",
        "from pydrive.drive import GoogleDrive\n",
        "from google.colab import auth\n",
        "from oauth2client.client import GoogleCredentials\n",
        " \n",
        "# 1. Authenticate and create the PyDrive client.\n",
        "auth.authenticate_user()\n",
        "gauth = GoogleAuth()\n",
        "gauth.credentials = GoogleCredentials.get_application_default()\n",
        "drive = GoogleDrive(gauth)\n",
        "file_list = drive.ListFile({'q': \"'1mLNJza6w4ywUAJpHhKzucHqzJbQgoNL9' in parents and trashed=false\"}).GetList()\n",
        "for file1 in file_list:\n",
        "  print('title: %s, id: %s' % (file1['title'], file1['id']))\n",
        "  \n",
        "pdf_data = drive.CreateFile({'id': '1Sg0Q1gtmXBrS9aYcKCm9R0GfvXCG0Nv_'})\n",
        "pdf_data.GetContentFile(\"java_book.pdf\")"
      ],
      "execution_count": 0,
      "outputs": []
    },
    {
      "metadata": {
        "id": "QCBuByeyR4fK",
        "colab_type": "text"
      },
      "cell_type": "markdown",
      "source": [
        "## PDF to Text Conversion"
      ]
    },
    {
      "metadata": {
        "id": "vfcNOvYGtQcz",
        "colab_type": "code",
        "colab": {}
      },
      "cell_type": "code",
      "source": [
        "def pagewise_text_extraction(pdfFileObj,Num_of_Pages,documented_text):\n",
        "  # Footer Words\n",
        "  footer_words=['Java Basics','1996-2003 jGuru.com. All Rights Reserved.','-','1','2','3','4','5','6','7','8','9','10','©']\n",
        "  \n",
        "  #Get rid of last page(This doesn't suit for all documents) since it doesn't have any valid information\n",
        "  Num_of_Pages=Num_of_Pages-1\n",
        "  # Get text from the pdf\n",
        "  \n",
        "  for page in range(Num_of_Pages):\n",
        "    pageObj = pdfReader.getPage(page)\n",
        "\n",
        "    #Enocding into ascii format\n",
        "    rough_text=pageObj.extractText().encode('ascii', 'ignore')\n",
        " \n",
        "    # Removing Page Header,Footer and Page numbers\n",
        "    for words in footer_words:\n",
        "      cleaned_text=rough_text.replace(words,'')\n",
        "      rough_text=cleaned_text\n",
        "\n",
        "    documented_text=documented_text+cleaned_text\n",
        "  return documented_text\n",
        "    \n",
        "    "
      ],
      "execution_count": 0,
      "outputs": []
    },
    {
      "metadata": {
        "id": "iXkz-ZXytQcu",
        "colab_type": "code",
        "colab": {}
      },
      "cell_type": "code",
      "source": [
        "import PyPDF2\n",
        "\n",
        "documented_text=''\n",
        "\n",
        "#Opening the PDF file\n",
        "pdfFileObj = open('java_book.pdf', 'rb')\n",
        "pdfReader = PyPDF2.PdfFileReader(pdfFileObj)\n",
        "documented_text=pagewise_text_extraction(pdfFileObj,pdfReader.numPages,documented_text)\n",
        " \n",
        "# closing the pdf file object\n",
        "pdfFileObj.close()\n",
        "\n",
        "documented_text"
      ],
      "execution_count": 0,
      "outputs": []
    },
    {
      "metadata": {
        "id": "sFkmN98Mu_np",
        "colab_type": "text"
      },
      "cell_type": "markdown",
      "source": [
        "## Cleaning Text"
      ]
    },
    {
      "metadata": {
        "id": "h8zAuvk1tQcK",
        "colab_type": "code",
        "colab": {}
      },
      "cell_type": "code",
      "source": [
        "from nltk.corpus import stopwords\n",
        "# Extracting meaningfull words\n",
        "def clean_text(text):\n",
        "        stopwords_set = set(stopwords.words(\"english\"))\n",
        "        filtered_words = [e.lower() for e in text.split() if len(e) >= 3]\n",
        "        stopwords_less_words = [word for word in filtered_words if not word in stopwords_set]\n",
        "        return ' '.join(stopwords_less_words)"
      ],
      "execution_count": 0,
      "outputs": []
    },
    {
      "metadata": {
        "id": "vg0WpD-Wtwan",
        "colab_type": "code",
        "colab": {}
      },
      "cell_type": "code",
      "source": [
        "documented_text=clean_text(documented_text)\n",
        "print(documented_text)\n",
        "usefull_text=''\n",
        "\n",
        "#Removing Special charectors\n",
        "import re\n",
        "for words in documented_text.split():\n",
        "  words = re.sub(r'[^A-Za-z]', ' ', words)\n",
        "  usefull_text=usefull_text+' '+words\n",
        "  #print(usefull_text)\n",
        "  #print(words)\n",
        "print(usefull_text)"
      ],
      "execution_count": 0,
      "outputs": []
    },
    {
      "metadata": {
        "id": "9PXSihus_JJb",
        "colab_type": "text"
      },
      "cell_type": "markdown",
      "source": [
        "## Keyword Extraction"
      ]
    },
    {
      "metadata": {
        "id": "RzGKsY889gm0",
        "colab_type": "code",
        "colab": {}
      },
      "cell_type": "code",
      "source": [
        "#Performing Keyword Extraction\n",
        "\n",
        "from rake_nltk import Rake\n",
        "rake =Rake(min_length=2, max_length=5)\n",
        "\n",
        "rake.extract_keywords_from_text(usefull_text)\n",
        "\n",
        "# To get keyword phrases ranked highest to lowest with scores.\n",
        "ranked_text=rake.get_ranked_phrases_with_scores()"
      ],
      "execution_count": 0,
      "outputs": []
    },
    {
      "metadata": {
        "id": "HnsA8Pwjwkt8",
        "colab_type": "code",
        "colab": {
          "base_uri": "https://localhost:8080/",
          "height": 198
        },
        "outputId": "4bf300bb-3f25-480c-daf2-8d7c19a3f88f"
      },
      "cell_type": "code",
      "source": [
        "import pandas as pd\n",
        "ranked_keywords = pd.DataFrame(data=ranked_text,columns=[\"Rank\",\"Keyword\"])\n",
        "ranked_keywords.head()"
      ],
      "execution_count": 310,
      "outputs": [
        {
          "output_type": "execute_result",
          "data": {
            "text/html": [
              "<div>\n",
              "<style scoped>\n",
              "    .dataframe tbody tr th:only-of-type {\n",
              "        vertical-align: middle;\n",
              "    }\n",
              "\n",
              "    .dataframe tbody tr th {\n",
              "        vertical-align: top;\n",
              "    }\n",
              "\n",
              "    .dataframe thead th {\n",
              "        text-align: right;\n",
              "    }\n",
              "</style>\n",
              "<table border=\"1\" class=\"dataframe\">\n",
              "  <thead>\n",
              "    <tr style=\"text-align: right;\">\n",
              "      <th></th>\n",
              "      <th>Rank</th>\n",
              "      <th>Keyword</th>\n",
              "    </tr>\n",
              "  </thead>\n",
              "  <tbody>\n",
              "    <tr>\n",
              "      <th>0</th>\n",
              "      <td>25.000000</td>\n",
              "      <td>operators order highest lowest priority</td>\n",
              "    </tr>\n",
              "    <tr>\n",
              "      <th>1</th>\n",
              "      <td>24.000000</td>\n",
              "      <td>println width getparameter width system</td>\n",
              "    </tr>\n",
              "    <tr>\n",
              "      <th>2</th>\n",
              "      <td>24.000000</td>\n",
              "      <td>println p getparameter p system</td>\n",
              "    </tr>\n",
              "    <tr>\n",
              "      <th>3</th>\n",
              "      <td>21.000000</td>\n",
              "      <td>interpreted java compiler asnew string</td>\n",
              "    </tr>\n",
              "    <tr>\n",
              "      <th>4</th>\n",
              "      <td>17.909091</td>\n",
              "      <td>data new data b data</td>\n",
              "    </tr>\n",
              "  </tbody>\n",
              "</table>\n",
              "</div>"
            ],
            "text/plain": [
              "        Rank                                  Keyword\n",
              "0  25.000000  operators order highest lowest priority\n",
              "1  24.000000  println width getparameter width system\n",
              "2  24.000000          println p getparameter p system\n",
              "3  21.000000   interpreted java compiler asnew string\n",
              "4  17.909091                     data new data b data"
            ]
          },
          "metadata": {
            "tags": []
          },
          "execution_count": 310
        }
      ]
    },
    {
      "metadata": {
        "id": "TZbYrPVIANZo",
        "colab_type": "code",
        "colab": {}
      },
      "cell_type": "code",
      "source": [
        "!pip install openpyxl\n",
        "import openpyxl\n",
        "ranked_keywords.to_excel('ranked_keywords.xlsx')\n",
        "from google.colab import files\n",
        "files.download('ranked_keywords.xlsx')"
      ],
      "execution_count": 0,
      "outputs": []
    }
  ]
}