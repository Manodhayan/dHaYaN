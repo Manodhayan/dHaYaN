{
  "nbformat": 4,
  "nbformat_minor": 0,
  "metadata": {
    "colab": {
      "name": "Exam Preparation Online Intern Selection Assignment.ipynb",
      "version": "0.3.2",
      "provenance": [],
      "include_colab_link": true
    }
  },
  "cells": [
    {
      "cell_type": "markdown",
      "metadata": {
        "id": "view-in-github",
        "colab_type": "text"
      },
      "source": [
        "[View in Colaboratory](https://colab.research.google.com/github/Manodhayan/dHaYaN/blob/master/Exam_Preparation_Online_Intern_Selection_Assignment.ipynb)"
      ]
    },
    {
      "metadata": {
        "id": "_aXWQC9KiCaa",
        "colab_type": "text"
      },
      "cell_type": "markdown",
      "source": [
        "# References\n"
      ]
    },
    {
      "metadata": {
        "id": "H6buAceGiMDg",
        "colab_type": "code",
        "colab": {}
      },
      "cell_type": "code",
      "source": [
        "# https://gist.github.com/jmcarp/7105045\n",
        "# https://github.com/shakkaist/Python/blob/master/Day2Session2/pdfconverter.py\n",
        "# https://www.geeksforgeeks.org/working-with-pdf-files-in-python/"
      ],
      "execution_count": 0,
      "outputs": []
    },
    {
      "metadata": {
        "id": "xgFA50HuUqZJ",
        "colab_type": "text"
      },
      "cell_type": "markdown",
      "source": [
        "# Exam Preparation Online Intern Selection Assignment"
      ]
    },
    {
      "metadata": {
        "id": "ZLQ5-WJQUpIL",
        "colab_type": "code",
        "colab": {
          "base_uri": "https://localhost:8080/",
          "height": 921
        },
        "outputId": "450df8ac-00c0-485f-9ca0-e50152feeda7"
      },
      "cell_type": "code",
      "source": [
        "!pip install pdfminer\n",
        "!pip install pdf2text\n",
        "!pip install summa\n",
        "!pip install gensim\n",
        "!pip install pyldavis\n",
        "import nltk\n",
        "nltk.download('stopwords')\n",
        "nltk.download('wordnet')"
      ],
      "execution_count": 324,
      "outputs": [
        {
          "output_type": "stream",
          "text": [
            "Requirement already satisfied: pdfminer in /usr/local/lib/python2.7/dist-packages (20140328)\n",
            "Requirement already satisfied: pdf2text in /usr/local/lib/python2.7/dist-packages (1.0.0)\n",
            "Requirement already satisfied: PDFMiner in /usr/local/lib/python2.7/dist-packages (from pdf2text) (20140328)\n",
            "Requirement already satisfied: summa in /usr/local/lib/python2.7/dist-packages (0.1.0)\n",
            "Requirement already satisfied: scipy>=0.19 in /usr/local/lib/python2.7/dist-packages (from summa) (0.19.1)\n",
            "Requirement already satisfied: numpy>=1.8.2 in /usr/local/lib/python2.7/dist-packages (from scipy>=0.19->summa) (1.14.5)\n",
            "Requirement already satisfied: gensim in /usr/local/lib/python2.7/dist-packages (3.5.0)\n",
            "Requirement already satisfied: smart-open>=1.2.1 in /usr/local/lib/python2.7/dist-packages (from gensim) (1.6.0)\n",
            "Requirement already satisfied: six>=1.5.0 in /usr/local/lib/python2.7/dist-packages (from gensim) (1.11.0)\n",
            "Requirement already satisfied: scipy>=0.18.1 in /usr/local/lib/python2.7/dist-packages (from gensim) (0.19.1)\n",
            "Requirement already satisfied: numpy>=1.11.3 in /usr/local/lib/python2.7/dist-packages (from gensim) (1.14.5)\n",
            "Requirement already satisfied: bz2file in /usr/local/lib/python2.7/dist-packages (from smart-open>=1.2.1->gensim) (0.98)\n",
            "Requirement already satisfied: boto>=2.32 in /usr/local/lib/python2.7/dist-packages (from smart-open>=1.2.1->gensim) (2.49.0)\n",
            "Requirement already satisfied: requests in /usr/local/lib/python2.7/dist-packages (from smart-open>=1.2.1->gensim) (2.18.4)\n",
            "Requirement already satisfied: boto3 in /usr/local/lib/python2.7/dist-packages (from smart-open>=1.2.1->gensim) (1.7.58)\n",
            "Requirement already satisfied: idna<2.7,>=2.5 in /usr/local/lib/python2.7/dist-packages (from requests->smart-open>=1.2.1->gensim) (2.6)\n",
            "Requirement already satisfied: urllib3<1.23,>=1.21.1 in /usr/local/lib/python2.7/dist-packages (from requests->smart-open>=1.2.1->gensim) (1.22)\n",
            "Requirement already satisfied: certifi>=2017.4.17 in /usr/local/lib/python2.7/dist-packages (from requests->smart-open>=1.2.1->gensim) (2018.4.16)\n",
            "Requirement already satisfied: chardet<3.1.0,>=3.0.2 in /usr/local/lib/python2.7/dist-packages (from requests->smart-open>=1.2.1->gensim) (3.0.4)\n",
            "Requirement already satisfied: jmespath<1.0.0,>=0.7.1 in /usr/local/lib/python2.7/dist-packages (from boto3->smart-open>=1.2.1->gensim) (0.9.3)\n",
            "Requirement already satisfied: botocore<1.11.0,>=1.10.58 in /usr/local/lib/python2.7/dist-packages (from boto3->smart-open>=1.2.1->gensim) (1.10.58)\n",
            "Requirement already satisfied: s3transfer<0.2.0,>=0.1.10 in /usr/local/lib/python2.7/dist-packages (from boto3->smart-open>=1.2.1->gensim) (0.1.13)\n",
            "Requirement already satisfied: docutils>=0.10 in /usr/local/lib/python2.7/dist-packages (from botocore<1.11.0,>=1.10.58->boto3->smart-open>=1.2.1->gensim) (0.14)\n",
            "Requirement already satisfied: python-dateutil<3.0.0,>=2.1; python_version >= \"2.7\" in /usr/local/lib/python2.7/dist-packages (from botocore<1.11.0,>=1.10.58->boto3->smart-open>=1.2.1->gensim) (2.5.3)\n",
            "Requirement already satisfied: futures<4.0.0,>=2.2.0; python_version == \"2.6\" or python_version == \"2.7\" in /usr/local/lib/python2.7/dist-packages (from s3transfer<0.2.0,>=0.1.10->boto3->smart-open>=1.2.1->gensim) (3.2.0)\n",
            "Requirement already satisfied: pyldavis in /usr/local/lib/python2.7/dist-packages (2.1.2)\n",
            "Requirement already satisfied: pandas>=0.17.0 in /usr/local/lib/python2.7/dist-packages (from pyldavis) (0.22.0)\n",
            "Requirement already satisfied: numexpr in /usr/local/lib/python2.7/dist-packages (from pyldavis) (2.6.5)\n",
            "Requirement already satisfied: scipy>=0.18.0 in /usr/local/lib/python2.7/dist-packages (from pyldavis) (0.19.1)\n",
            "Requirement already satisfied: numpy>=1.9.2 in /usr/local/lib/python2.7/dist-packages (from pyldavis) (1.14.5)\n",
            "Requirement already satisfied: jinja2>=2.7.2 in /usr/local/lib/python2.7/dist-packages (from pyldavis) (2.10)\n",
            "Requirement already satisfied: wheel>=0.23.0 in /usr/local/lib/python2.7/dist-packages (from pyldavis) (0.31.1)\n",
            "Requirement already satisfied: future in /usr/local/lib/python2.7/dist-packages (from pyldavis) (0.16.0)\n",
            "Requirement already satisfied: funcy in /usr/local/lib/python2.7/dist-packages (from pyldavis) (1.10.3)\n",
            "Requirement already satisfied: pytest in /usr/local/lib/python2.7/dist-packages (from pyldavis) (3.6.3)\n",
            "Requirement already satisfied: joblib>=0.8.4 in /usr/local/lib/python2.7/dist-packages (from pyldavis) (0.12.0)\n",
            "Requirement already satisfied: pytz>=2011k in /usr/local/lib/python2.7/dist-packages (from pandas>=0.17.0->pyldavis) (2018.5)\n",
            "Requirement already satisfied: python-dateutil in /usr/local/lib/python2.7/dist-packages (from pandas>=0.17.0->pyldavis) (2.5.3)\n",
            "Requirement already satisfied: MarkupSafe>=0.23 in /usr/local/lib/python2.7/dist-packages (from jinja2>=2.7.2->pyldavis) (1.0)\n",
            "Requirement already satisfied: setuptools in /usr/local/lib/python2.7/dist-packages (from pytest->pyldavis) (39.1.0)\n",
            "Requirement already satisfied: py>=1.5.0 in /usr/local/lib/python2.7/dist-packages (from pytest->pyldavis) (1.5.4)\n",
            "Requirement already satisfied: more-itertools>=4.0.0 in /usr/local/lib/python2.7/dist-packages (from pytest->pyldavis) (4.2.0)\n",
            "Requirement already satisfied: funcsigs; python_version < \"3.0\" in /usr/local/lib/python2.7/dist-packages (from pytest->pyldavis) (1.0.2)\n",
            "Requirement already satisfied: six>=1.10.0 in /usr/local/lib/python2.7/dist-packages (from pytest->pyldavis) (1.11.0)\n",
            "Requirement already satisfied: attrs>=17.4.0 in /usr/local/lib/python2.7/dist-packages (from pytest->pyldavis) (18.1.0)\n",
            "Requirement already satisfied: pluggy<0.7,>=0.5 in /usr/local/lib/python2.7/dist-packages (from pytest->pyldavis) (0.6.0)\n",
            "Requirement already satisfied: atomicwrites>=1.0 in /usr/local/lib/python2.7/dist-packages (from pytest->pyldavis) (1.1.5)\n",
            "[nltk_data] Downloading package stopwords to /content/nltk_data...\n",
            "[nltk_data]   Package stopwords is already up-to-date!\n",
            "[nltk_data] Downloading package wordnet to /content/nltk_data...\n",
            "[nltk_data]   Package wordnet is already up-to-date!\n"
          ],
          "name": "stdout"
        },
        {
          "output_type": "execute_result",
          "data": {
            "text/plain": [
              "True"
            ]
          },
          "metadata": {
            "tags": []
          },
          "execution_count": 324
        }
      ]
    },
    {
      "metadata": {
        "id": "Joj6ibTdV5LC",
        "colab_type": "code",
        "colab": {
          "base_uri": "https://localhost:8080/",
          "height": 68
        },
        "outputId": "ea968b70-e0dc-4704-d63e-f3e6fe5f87e7"
      },
      "cell_type": "code",
      "source": [
        "!pip install -U -q PyDrive\n",
        " \n",
        "from pydrive.auth import GoogleAuth\n",
        "from pydrive.drive import GoogleDrive\n",
        "from google.colab import auth\n",
        "from oauth2client.client import GoogleCredentials\n",
        " \n",
        "# 1. Authenticate and create the PyDrive client.\n",
        "auth.authenticate_user()\n",
        "gauth = GoogleAuth()\n",
        "gauth.credentials = GoogleCredentials.get_application_default()\n",
        "drive = GoogleDrive(gauth)\n",
        "file_list = drive.ListFile({'q': \"'1mLNJza6w4ywUAJpHhKzucHqzJbQgoNL9' in parents and trashed=false\"}).GetList()\n",
        "for file1 in file_list:\n",
        "  print('title: %s, id: %s' % (file1['title'], file1['id']))\n",
        "  \n",
        "pdf_data = drive.CreateFile({'id': '1Sg0Q1gtmXBrS9aYcKCm9R0GfvXCG0Nv_'})\n",
        "pdf_data.GetContentFile(\"notes.pdf\")"
      ],
      "execution_count": 45,
      "outputs": [
        {
          "output_type": "stream",
          "text": [
            "title: Exam Preparation Online Intern Selection Assignment.ipynb, id: 1Wa_EiWPiPuhQL5jQ7CuxtpwUralxznqm\n",
            "title: Copy of Exam Preparation Online Intern Selection Assignment.ipynb, id: 1jJzFjYToMqX4KrYz0g-9NnkTD5jmLzPo\n",
            "title: JavaBasics-notes.pdf, id: 1Sg0Q1gtmXBrS9aYcKCm9R0GfvXCG0Nv_\n"
          ],
          "name": "stdout"
        }
      ]
    },
    {
      "metadata": {
        "id": "FYvMmb8Uij2y",
        "colab_type": "code",
        "colab": {}
      },
      "cell_type": "code",
      "source": [
        "def pagewise_text_extraction(pdfFileObj):\n",
        "  pdfReader = PyPDF2.PdfFileReader(pdfFileObj)\n",
        "  \n",
        "  for page in range(pdfReader.numPages):\n",
        "    pageObj = pdfReader.getPage(page)\n",
        "    #print(page,pageObj.extractText())\n",
        "    pagewise_text.append(pageObj.extractText())"
      ],
      "execution_count": 0,
      "outputs": []
    },
    {
      "metadata": {
        "id": "yXtbhQsnWo-y",
        "colab_type": "code",
        "colab": {
          "base_uri": "https://localhost:8080/",
          "height": 88
        },
        "outputId": "2785a673-e684-483a-f44e-0336aedbbd7d"
      },
      "cell_type": "code",
      "source": [
        "!pip install PyPDF2\n",
        "import PyPDF2\n",
        "import pandas as pd\n",
        "\n",
        "pagewise_text=[]\n",
        "pdfFileObj = open('notes.pdf', 'rb')\n",
        "pagewise_text_extraction(pdfFileObj)\n",
        "\n",
        "print(pdfReader.numPages)\n",
        " \n",
        "# creating a page object\n",
        "pageObj = pdfReader.getPage(2)\n",
        " \n",
        "# extracting text from page\n",
        "print(pageObj.extractText())\n",
        " \n",
        "# closing the pdf file object\n",
        "pdfFileObj.close()"
      ],
      "execution_count": 272,
      "outputs": [
        {
          "output_type": "stream",
          "text": [
            "Requirement already satisfied: PyPDF2 in /usr/local/lib/python2.7/dist-packages (1.26.0)\r\n",
            "23\n",
            "Java Basics© 1996-2003 jGuru.com. All Rights Reserved.Java Basics -3! Garbage collection--no bad addresses! Array and string bounds checking! No jumping to bad method addresses! Interfaces and exceptionsJava Program StructureA file containing Java source code is considered a compilation unit. Such acompilation unit contains a set of classes and, optionally, a package definition togroup related classes together. Classes contain data and method members thatspecify the state and behavior of the objects in your program.Java programs come in two flavors:! Standalone applications that have no initial context such as a pre-existing mainwindow! Applets for WWW programmingThe major differences between applications and applets are:! Applets are not allowed to use file I/O and sockets (other than to the hostplatform). Applications do not have these restrictions.! An applet must be a subclass of the Java Applet class. Aplications do not need tosubclass any particular class.! Unlike applets, applications can have menus.! Unlike applications, applets need to respond to predefined lifecycle messagesfrom the WWW browser in which they're running.Java Program ExecutionThe Java byte-code compiler translates a Java source file into machine-independent byte code. The byte code for each publicly visible class is placed in aseparate file, so that the Java runtime system can easily find it. If your programinstantiates an object of class A, for example, the class loader searches thedirectories listed in your CLASSPATH environment variable for a file called A.classthat contains the class definition and byte code for class A.There is no link phase for Java programs; all linking is done dynamically at\n"
          ],
          "name": "stdout"
        }
      ]
    },
    {
      "metadata": {
        "id": "sIs9jpx48IhR",
        "colab_type": "text"
      },
      "cell_type": "markdown",
      "source": [
        "## Preprocessing"
      ]
    },
    {
      "metadata": {
        "id": "lR9TurjU8Uiy",
        "colab_type": "text"
      },
      "cell_type": "markdown",
      "source": [
        "### Cleaning Stage 1"
      ]
    },
    {
      "metadata": {
        "id": "9yTF2GMHw_GN",
        "colab_type": "code",
        "colab": {}
      },
      "cell_type": "code",
      "source": [
        "pagewise_textdata = pd.DataFrame(data=pagewise_text,columns=[\"Text\"])\n",
        "pagewise_textdata[\"Page_No\"]=\"\"\n",
        "pagenumber=1;\n",
        "# Removing Page Header,Footer and Page numbers\n",
        "template_words=['Java Basics','1996-2003 jGuru.com. All Rights Reserved.','-','1','2','3','4','5','6','7','8','9','10']\n",
        "for index,row in pagewise_textdata.iterrows():\n",
        "  pagewise_textdata.Page_No[index]=pagenumber\n",
        "  pagenumber=pagenumber+1\n",
        "  pagewise_textdata['Text']=pagewise_textdata['Text'].apply(lambda x: x.encode('ascii', 'ignore'))\n",
        "  for words in template_words:\n",
        "    pagewise_textdata['Text']=pagewise_textdata['Text'].replace(words,'',regex=True)\n",
        "\n",
        "#Neglecting last pages as it doesn't contain any useful information\n",
        "pagewise_textdata=pagewise_textdata[:-2]\n",
        "#pagewise_textdata"
      ],
      "execution_count": 0,
      "outputs": []
    },
    {
      "metadata": {
        "id": "C5YwBku58Z9Z",
        "colab_type": "text"
      },
      "cell_type": "markdown",
      "source": [
        "### Cleaning Stage 2"
      ]
    },
    {
      "metadata": {
        "id": "RimoabWjnqz0",
        "colab_type": "code",
        "colab": {
          "base_uri": "https://localhost:8080/",
          "height": 734
        },
        "outputId": "022b5c7b-01f8-4fc1-9d01-9c2bc7e0caea"
      },
      "cell_type": "code",
      "source": [
        "\n",
        "pagewise_textdata[\"Meaningfull_Text\"]=\"\"\n",
        "# Extracting meaningfull words\n",
        "def clean_text(text):\n",
        "        stopwords_set = set(stopwords.words(\"english\"))\n",
        "        filtered_words = [e.lower() for e in text.split() if len(e) >= 3]\n",
        "        stopwords_less_words = [word for word in filtered_words if not word in stopwords_set]\n",
        "        return ' '.join(stopwords_less_words)\n",
        "\n",
        "for index,row in pagewise_textdata.iterrows():\n",
        "  pagewise_textdata.Meaningfull_Text[index]=clean_text(pagewise_textdata.Text[index])\n",
        "\n",
        "pagewise_textdata"
      ],
      "execution_count": 317,
      "outputs": [
        {
          "output_type": "stream",
          "text": [
            "[nltk_data] Downloading package stopwords to /content/nltk_data...\n",
            "[nltk_data]   Package stopwords is already up-to-date!\n"
          ],
          "name": "stdout"
        },
        {
          "output_type": "execute_result",
          "data": {
            "text/html": [
              "<div>\n",
              "<style scoped>\n",
              "    .dataframe tbody tr th:only-of-type {\n",
              "        vertical-align: middle;\n",
              "    }\n",
              "\n",
              "    .dataframe tbody tr th {\n",
              "        vertical-align: top;\n",
              "    }\n",
              "\n",
              "    .dataframe thead th {\n",
              "        text-align: right;\n",
              "    }\n",
              "</style>\n",
              "<table border=\"1\" class=\"dataframe\">\n",
              "  <thead>\n",
              "    <tr style=\"text-align: right;\">\n",
              "      <th></th>\n",
              "      <th>Text</th>\n",
              "      <th>Page_No</th>\n",
              "      <th>Meaningfull_Text</th>\n",
              "    </tr>\n",
              "  </thead>\n",
              "  <tbody>\n",
              "    <tr>\n",
              "      <th>0</th>\n",
              "      <td>Topics in this section include:! What makes ...</td>\n",
              "      <td>1</td>\n",
              "      <td>topics section include:! makes java programs p...</td>\n",
              "    </tr>\n",
              "    <tr>\n",
              "      <th>1</th>\n",
              "      <td>are not portable.. The library. The Java cla...</td>\n",
              "      <td>2</td>\n",
              "      <td>portable.. library. java class library availab...</td>\n",
              "    </tr>\n",
              "    <tr>\n",
              "      <th>2</th>\n",
              "      <td>! Garbage collectionno bad addresses! Array ...</td>\n",
              "      <td>3</td>\n",
              "      <td>garbage collectionno bad addresses! array stri...</td>\n",
              "    </tr>\n",
              "    <tr>\n",
              "      <th>3</th>\n",
              "      <td>runtime.The following diagram shows an examp...</td>\n",
              "      <td>4</td>\n",
              "      <td>runtime.the following diagram shows example ja...</td>\n",
              "    </tr>\n",
              "    <tr>\n",
              "      <th>4</th>\n",
              "      <td>public class TrivialApplication {  // args[0...</td>\n",
              "      <td>5</td>\n",
              "      <td>public class trivialapplication args[0] first ...</td>\n",
              "    </tr>\n",
              "    <tr>\n",
              "      <th>5</th>\n",
              "      <td>threads so they do not burden system resourc...</td>\n",
              "      <td>6</td>\n",
              "      <td>threads burden system resources unnecessarily....</td>\n",
              "    </tr>\n",
              "    <tr>\n",
              "      <th>6</th>\n",
              "      <td>// where 0,0 is the upperleft corner    ...</td>\n",
              "      <td>7</td>\n",
              "      <td>0,0 upperleft corner g.drawstring(\"hello, worl...</td>\n",
              "    </tr>\n",
              "    <tr>\n",
              "      <th>7</th>\n",
              "      <td>System.out.println(\"p is \"    + getParam...</td>\n",
              "      <td>8</td>\n",
              "      <td>system.out.println(\"p getparameter(\"p\")); }}pr...</td>\n",
              "    </tr>\n",
              "    <tr>\n",
              "      <th>8</th>\n",
              "      <td>DeclarationsA Java variable may refer to an ...</td>\n",
              "      <td>9</td>\n",
              "      <td>declarationsa java variable may refer object, ...</td>\n",
              "    </tr>\n",
              "    <tr>\n",
              "      <th>9</th>\n",
              "      <td>0 // Java codevoid foo() {  // define a refer...</td>\n",
              "      <td>10</td>\n",
              "      <td>java codevoid foo() define reference button; i...</td>\n",
              "    </tr>\n",
              "    <tr>\n",
              "      <th>10</th>\n",
              "      <td>StringsJava string literals look the same as...</td>\n",
              "      <td>11</td>\n",
              "      <td>stringsjava string literals look c/c++, java s...</td>\n",
              "    </tr>\n",
              "    <tr>\n",
              "      <th>11</th>\n",
              "      <td>element typeelement 0element ...element nThe...</td>\n",
              "      <td>12</td>\n",
              "      <td>element typeelement 0element ...element nthe s...</td>\n",
              "    </tr>\n",
              "    <tr>\n",
              "      <th>12</th>\n",
              "      <td>int *a = new int[];An array of Java objects ...</td>\n",
              "      <td>13</td>\n",
              "      <td>int new int[];an array java objects as// java ...</td>\n",
              "    </tr>\n",
              "    <tr>\n",
              "      <th>13</th>\n",
              "      <td>setTitle(a[], \"QUIT\");Multidimensional Java ...</td>\n",
              "      <td>14</td>\n",
              "      <td>settitle(a[], \"quit\");multidimensional java ar...</td>\n",
              "    </tr>\n",
              "    <tr>\n",
              "      <th>14</th>\n",
              "      <td>ExpressionsMost Java expressions are similar...</td>\n",
              "      <td>15</td>\n",
              "      <td>expressionsmost java expressions similar c/c++...</td>\n",
              "    </tr>\n",
              "    <tr>\n",
              "      <th>15</th>\n",
              "      <td>idi, nameListobj.method(args)instance method...</td>\n",
              "      <td>16</td>\n",
              "      <td>idi, namelistobj.method(args)instance method c...</td>\n",
              "    </tr>\n",
              "    <tr>\n",
              "      <th>16</th>\n",
              "      <td>differently than in C++. A proper Java state...</td>\n",
              "      <td>17</td>\n",
              "      <td>differently c++. proper java statement is:// j...</td>\n",
              "    </tr>\n",
              "    <tr>\n",
              "      <th>17</th>\n",
              "      <td>semantics, just as in C/C++. For example, i ...</td>\n",
              "      <td>18</td>\n",
              "      <td>semantics, c/c++. example, two int variables j...</td>\n",
              "    </tr>\n",
              "    <tr>\n",
              "      <th>18</th>\n",
              "      <td>Note: The above class definition requires ex...</td>\n",
              "      <td>19</td>\n",
              "      <td>note: class definition requires exception hand...</td>\n",
              "    </tr>\n",
              "    <tr>\n",
              "      <th>19</th>\n",
              "      <td>0   Data d = a;  Data e = a;  // d == e is TR...</td>\n",
              "      <td>20</td>\n",
              "      <td>data data true, d,e referring object}to perfor...</td>\n",
              "    </tr>\n",
              "    <tr>\n",
              "      <th>20</th>\n",
              "      <td>task of deallocating your own memory.As a co...</td>\n",
              "      <td>21</td>\n",
              "      <td>task deallocating memory.as consequence automa...</td>\n",
              "    </tr>\n",
              "  </tbody>\n",
              "</table>\n",
              "</div>"
            ],
            "text/plain": [
              "                                                 Text Page_No  \\\n",
              "0     Topics in this section include:! What makes ...       1   \n",
              "1     are not portable.. The library. The Java cla...       2   \n",
              "2     ! Garbage collectionno bad addresses! Array ...       3   \n",
              "3     runtime.The following diagram shows an examp...       4   \n",
              "4     public class TrivialApplication {  // args[0...       5   \n",
              "5     threads so they do not burden system resourc...       6   \n",
              "6         // where 0,0 is the upperleft corner    ...       7   \n",
              "7         System.out.println(\"p is \"    + getParam...       8   \n",
              "8     DeclarationsA Java variable may refer to an ...       9   \n",
              "9    0 // Java codevoid foo() {  // define a refer...      10   \n",
              "10    StringsJava string literals look the same as...      11   \n",
              "11    element typeelement 0element ...element nThe...      12   \n",
              "12    int *a = new int[];An array of Java objects ...      13   \n",
              "13    setTitle(a[], \"QUIT\");Multidimensional Java ...      14   \n",
              "14    ExpressionsMost Java expressions are similar...      15   \n",
              "15    idi, nameListobj.method(args)instance method...      16   \n",
              "16    differently than in C++. A proper Java state...      17   \n",
              "17    semantics, just as in C/C++. For example, i ...      18   \n",
              "18    Note: The above class definition requires ex...      19   \n",
              "19   0   Data d = a;  Data e = a;  // d == e is TR...      20   \n",
              "20    task of deallocating your own memory.As a co...      21   \n",
              "\n",
              "                                     Meaningfull_Text  \n",
              "0   topics section include:! makes java programs p...  \n",
              "1   portable.. library. java class library availab...  \n",
              "2   garbage collectionno bad addresses! array stri...  \n",
              "3   runtime.the following diagram shows example ja...  \n",
              "4   public class trivialapplication args[0] first ...  \n",
              "5   threads burden system resources unnecessarily....  \n",
              "6   0,0 upperleft corner g.drawstring(\"hello, worl...  \n",
              "7   system.out.println(\"p getparameter(\"p\")); }}pr...  \n",
              "8   declarationsa java variable may refer object, ...  \n",
              "9   java codevoid foo() define reference button; i...  \n",
              "10  stringsjava string literals look c/c++, java s...  \n",
              "11  element typeelement 0element ...element nthe s...  \n",
              "12  int new int[];an array java objects as// java ...  \n",
              "13  settitle(a[], \"quit\");multidimensional java ar...  \n",
              "14  expressionsmost java expressions similar c/c++...  \n",
              "15  idi, namelistobj.method(args)instance method c...  \n",
              "16  differently c++. proper java statement is:// j...  \n",
              "17  semantics, c/c++. example, two int variables j...  \n",
              "18  note: class definition requires exception hand...  \n",
              "19  data data true, d,e referring object}to perfor...  \n",
              "20  task deallocating memory.as consequence automa...  "
            ]
          },
          "metadata": {
            "tags": []
          },
          "execution_count": 317
        }
      ]
    },
    {
      "metadata": {
        "id": "XCX-X47vFn2Z",
        "colab_type": "text"
      },
      "cell_type": "markdown",
      "source": [
        ""
      ]
    },
    {
      "metadata": {
        "id": "1833ES57rf5M",
        "colab_type": "code",
        "colab": {}
      },
      "cell_type": "code",
      "source": [
        ""
      ],
      "execution_count": 0,
      "outputs": []
    },
    {
      "metadata": {
        "id": "9PXSihus_JJb",
        "colab_type": "text"
      },
      "cell_type": "markdown",
      "source": [
        "## Text Summarization"
      ]
    },
    {
      "metadata": {
        "id": "RzGKsY889gm0",
        "colab_type": "code",
        "colab": {
          "base_uri": "https://localhost:8080/",
          "height": 483
        },
        "outputId": "15e4e702-b714-404e-9431-ad6e6bef4edc"
      },
      "cell_type": "code",
      "source": [
        "from summa.summarizer import summarize\n",
        "pagewise_textdata[\"Summary\"]=\"\"\n",
        "for index,row in pagewise_textdata.iterrows():\n",
        "  pagewise_textdata.Summary[index]=summarize(pagewise_textdata.Meaningfull_Text[index],ratio=0.3)\n",
        "  if pagewise_textdata.Summary[index]==\"\":\n",
        "    print(index)\n",
        "    pagewise_textdata=pagewise_textdata.drop([index])\n",
        "\n",
        "pagewise_textdata.reset_index(inplace=True,drop=True)  \n",
        "pagewise_textdata\n"
      ],
      "execution_count": 321,
      "outputs": [
        {
          "output_type": "execute_result",
          "data": {
            "text/html": [
              "<div>\n",
              "<style scoped>\n",
              "    .dataframe tbody tr th:only-of-type {\n",
              "        vertical-align: middle;\n",
              "    }\n",
              "\n",
              "    .dataframe tbody tr th {\n",
              "        vertical-align: top;\n",
              "    }\n",
              "\n",
              "    .dataframe thead th {\n",
              "        text-align: right;\n",
              "    }\n",
              "</style>\n",
              "<table border=\"1\" class=\"dataframe\">\n",
              "  <thead>\n",
              "    <tr style=\"text-align: right;\">\n",
              "      <th></th>\n",
              "      <th>Text</th>\n",
              "      <th>Page_No</th>\n",
              "      <th>Meaningfull_Text</th>\n",
              "      <th>Summary</th>\n",
              "    </tr>\n",
              "  </thead>\n",
              "  <tbody>\n",
              "    <tr>\n",
              "      <th>0</th>\n",
              "      <td>Topics in this section include:! What makes ...</td>\n",
              "      <td>1</td>\n",
              "      <td>topics section include:! makes java programs p...</td>\n",
              "      <td>makes java programs portable, secure, robust!\\...</td>\n",
              "    </tr>\n",
              "    <tr>\n",
              "      <th>1</th>\n",
              "      <td>are not portable.. The library. The Java cla...</td>\n",
              "      <td>2</td>\n",
              "      <td>portable.. library. java class library availab...</td>\n",
              "      <td>java class library available machine javarunti...</td>\n",
              "    </tr>\n",
              "    <tr>\n",
              "      <th>2</th>\n",
              "      <td>! Garbage collectionno bad addresses! Array ...</td>\n",
              "      <td>3</td>\n",
              "      <td>garbage collectionno bad addresses! array stri...</td>\n",
              "      <td>interfaces exceptionsjava program structurea f...</td>\n",
              "    </tr>\n",
              "    <tr>\n",
              "      <th>3</th>\n",
              "      <td>public class TrivialApplication {  // args[0...</td>\n",
              "      <td>5</td>\n",
              "      <td>public class trivialapplication args[0] first ...</td>\n",
              "      <td>class, effect,creates scoped symbol startingcl...</td>\n",
              "    </tr>\n",
              "    <tr>\n",
              "      <th>4</th>\n",
              "      <td>threads so they do not burden system resourc...</td>\n",
              "      <td>6</td>\n",
              "      <td>threads burden system resources unnecessarily....</td>\n",
              "      <td>therefore, forget call super.dispose() youover...</td>\n",
              "    </tr>\n",
              "    <tr>\n",
              "      <th>5</th>\n",
              "      <td>// where 0,0 is the upperleft corner    ...</td>\n",
              "      <td>7</td>\n",
              "      <td>0,0 upperleft corner g.drawstring(\"hello, worl...</td>\n",
              "      <td>forexample, output trivialapplet appletviewer ...</td>\n",
              "    </tr>\n",
              "    <tr>\n",
              "      <th>6</th>\n",
              "      <td>System.out.println(\"p is \"    + getParam...</td>\n",
              "      <td>8</td>\n",
              "      <td>system.out.println(\"p getparameter(\"p\")); }}pr...</td>\n",
              "      <td>*/) cannot nested, contain c++ style comments....</td>\n",
              "    </tr>\n",
              "    <tr>\n",
              "      <th>7</th>\n",
              "      <td>StringsJava string literals look the same as...</td>\n",
              "      <td>11</td>\n",
              "      <td>stringsjava string literals look c/c++, java s...</td>\n",
              "      <td>use tostring() method toconvert objects string...</td>\n",
              "    </tr>\n",
              "    <tr>\n",
              "      <th>8</th>\n",
              "      <td>setTitle(a[], \"QUIT\");Multidimensional Java ...</td>\n",
              "      <td>14</td>\n",
              "      <td>settitle(a[], \"quit\");multidimensional java ar...</td>\n",
              "      <td>arraysint[] };or java .int[] i;i new int[] };c...</td>\n",
              "    </tr>\n",
              "    <tr>\n",
              "      <th>9</th>\n",
              "      <td>idi, nameListobj.method(args)instance method...</td>\n",
              "      <td>16</td>\n",
              "      <td>idi, namelistobj.method(args)instance method c...</td>\n",
              "      <td>(c++ operators include instanceof new, notpres...</td>\n",
              "    </tr>\n",
              "    <tr>\n",
              "      <th>10</th>\n",
              "      <td>differently than in C++. A proper Java state...</td>\n",
              "      <td>17</td>\n",
              "      <td>differently c++. proper java statement is:// j...</td>\n",
              "      <td>(each loop bepreceded label.)java semanticswe ...</td>\n",
              "    </tr>\n",
              "    <tr>\n",
              "      <th>11</th>\n",
              "      <td>Note: The above class definition requires ex...</td>\n",
              "      <td>19</td>\n",
              "      <td>note: class definition requires exception hand...</td>\n",
              "      <td>now, pretend notnecessary.method parameters re...</td>\n",
              "    </tr>\n",
              "    <tr>\n",
              "      <th>12</th>\n",
              "      <td>0   Data d = a;  Data e = a;  // d == e is TR...</td>\n",
              "      <td>20</td>\n",
              "      <td>data data true, d,e referring object}to perfor...</td>\n",
              "      <td>data data true, d,e referring object}to perfor...</td>\n",
              "    </tr>\n",
              "    <tr>\n",
              "      <th>13</th>\n",
              "      <td>task of deallocating your own memory.As a co...</td>\n",
              "      <td>21</td>\n",
              "      <td>task deallocating memory.as consequence automa...</td>\n",
              "      <td>task deallocating memory.as consequence automa...</td>\n",
              "    </tr>\n",
              "  </tbody>\n",
              "</table>\n",
              "</div>"
            ],
            "text/plain": [
              "                                                 Text Page_No  \\\n",
              "0     Topics in this section include:! What makes ...       1   \n",
              "1     are not portable.. The library. The Java cla...       2   \n",
              "2     ! Garbage collectionno bad addresses! Array ...       3   \n",
              "3     public class TrivialApplication {  // args[0...       5   \n",
              "4     threads so they do not burden system resourc...       6   \n",
              "5         // where 0,0 is the upperleft corner    ...       7   \n",
              "6         System.out.println(\"p is \"    + getParam...       8   \n",
              "7     StringsJava string literals look the same as...      11   \n",
              "8     setTitle(a[], \"QUIT\");Multidimensional Java ...      14   \n",
              "9     idi, nameListobj.method(args)instance method...      16   \n",
              "10    differently than in C++. A proper Java state...      17   \n",
              "11    Note: The above class definition requires ex...      19   \n",
              "12   0   Data d = a;  Data e = a;  // d == e is TR...      20   \n",
              "13    task of deallocating your own memory.As a co...      21   \n",
              "\n",
              "                                     Meaningfull_Text  \\\n",
              "0   topics section include:! makes java programs p...   \n",
              "1   portable.. library. java class library availab...   \n",
              "2   garbage collectionno bad addresses! array stri...   \n",
              "3   public class trivialapplication args[0] first ...   \n",
              "4   threads burden system resources unnecessarily....   \n",
              "5   0,0 upperleft corner g.drawstring(\"hello, worl...   \n",
              "6   system.out.println(\"p getparameter(\"p\")); }}pr...   \n",
              "7   stringsjava string literals look c/c++, java s...   \n",
              "8   settitle(a[], \"quit\");multidimensional java ar...   \n",
              "9   idi, namelistobj.method(args)instance method c...   \n",
              "10  differently c++. proper java statement is:// j...   \n",
              "11  note: class definition requires exception hand...   \n",
              "12  data data true, d,e referring object}to perfor...   \n",
              "13  task deallocating memory.as consequence automa...   \n",
              "\n",
              "                                              Summary  \n",
              "0   makes java programs portable, secure, robust!\\...  \n",
              "1   java class library available machine javarunti...  \n",
              "2   interfaces exceptionsjava program structurea f...  \n",
              "3   class, effect,creates scoped symbol startingcl...  \n",
              "4   therefore, forget call super.dispose() youover...  \n",
              "5   forexample, output trivialapplet appletviewer ...  \n",
              "6   */) cannot nested, contain c++ style comments....  \n",
              "7   use tostring() method toconvert objects string...  \n",
              "8   arraysint[] };or java .int[] i;i new int[] };c...  \n",
              "9   (c++ operators include instanceof new, notpres...  \n",
              "10  (each loop bepreceded label.)java semanticswe ...  \n",
              "11  now, pretend notnecessary.method parameters re...  \n",
              "12  data data true, d,e referring object}to perfor...  \n",
              "13  task deallocating memory.as consequence automa...  "
            ]
          },
          "metadata": {
            "tags": []
          },
          "execution_count": 321
        }
      ]
    },
    {
      "metadata": {
        "id": "pHV6nOaYs356",
        "colab_type": "text"
      },
      "cell_type": "markdown",
      "source": [
        "###Cleaning Document"
      ]
    },
    {
      "metadata": {
        "id": "tNZ5bl4btbnC",
        "colab_type": "code",
        "colab": {}
      },
      "cell_type": "code",
      "source": [
        "from nltk.corpus import stopwords \n",
        "from nltk.stem.wordnet import WordNetLemmatizer\n",
        "import string\n",
        "stop = set(stopwords.words('english'))\n",
        "exclude = set(string.punctuation) \n",
        "lemma = WordNetLemmatizer()\n",
        "def clean(doc):\n",
        "    stop_free = \" \".join([i for i in doc.lower().split() if i not in stop])\n",
        "    punc_free = ''.join(ch for ch in stop_free if ch not in exclude)\n",
        "    normalized = \" \".join(lemma.lemmatize(word) for word in punc_free.split())\n",
        "    return normalized\n",
        "\n",
        "doc_clean = [clean(doc).split() for doc in pagewise_textdata.Summary]"
      ],
      "execution_count": 0,
      "outputs": []
    },
    {
      "metadata": {
        "id": "0PJXMeSGs-q3",
        "colab_type": "text"
      },
      "cell_type": "markdown",
      "source": [
        "###Prepare the Document to model"
      ]
    },
    {
      "metadata": {
        "id": "PAFsxY2Nt8if",
        "colab_type": "code",
        "colab": {}
      },
      "cell_type": "code",
      "source": [
        "# Importing Gensim\n",
        "import gensim\n",
        "from gensim import corpora\n",
        "# Creating the term dictionary of our courpus, where every unique term is assigned an index. \n",
        "dictionary = corpora.Dictionary(doc_clean)\n",
        "\n",
        "# Converting list of documents (corpus) into Document Term Matrix using dictionary prepared above.\n",
        "doc_term_matrix = [dictionary.doc2bow(doc) for doc in doc_clean]\n",
        "corpus=doc_term_matrix\n",
        "import pickle\n",
        "pickle.dump(corpus, open('corpus.pkl', 'wb'))\n",
        "dictionary.save('dictionary.gensim')"
      ],
      "execution_count": 0,
      "outputs": []
    },
    {
      "metadata": {
        "id": "s6SINvKZtFu8",
        "colab_type": "text"
      },
      "cell_type": "markdown",
      "source": [
        "###Model the Document"
      ]
    },
    {
      "metadata": {
        "id": "g37dc24luAqU",
        "colab_type": "code",
        "colab": {}
      },
      "cell_type": "code",
      "source": [
        "# Creating the object for LDA model using gensim library\n",
        "Lda = gensim.models.ldamodel.LdaModel\n",
        "\n",
        "# Running and Trainign LDA model on the document term matrix.\n",
        "ldamodel = Lda(doc_term_matrix, num_topics=5, id2word = dictionary, passes=50)\n",
        "ldamodel.save('model3.gensim')"
      ],
      "execution_count": 0,
      "outputs": []
    },
    {
      "metadata": {
        "id": "4jy8KZj9tJkP",
        "colab_type": "text"
      },
      "cell_type": "markdown",
      "source": [
        "###Results"
      ]
    },
    {
      "metadata": {
        "id": "zPDvBKItxfXc",
        "colab_type": "code",
        "colab": {
          "base_uri": "https://localhost:8080/",
          "height": 54
        },
        "outputId": "7eb68202-d93a-4d21-a1a5-b191a2ea5220"
      },
      "cell_type": "code",
      "source": [
        "print(ldamodel.print_topics(num_topics=5, num_words=5))\n",
        "#['0.168*health + 0.083*sugar + 0.072*bad','0.061*consume + 0.050*drive + 0.050*sister','0.049*pressur + 0.049*father + 0.049*sister']"
      ],
      "execution_count": 348,
      "outputs": [
        {
          "output_type": "stream",
          "text": [
            "[(0, u'0.055*\"return\" + 0.026*\"string\" + 0.021*\"java\" + 0.021*\"value\" + 0.021*\"method\"'), (1, u'0.063*\"java\" + 0.023*\"language\" + 0.023*\"program\" + 0.014*\"code\" + 0.014*\"system\"'), (2, u'0.029*\"java\" + 0.026*\"comment\" + 0.019*\"code\" + 0.019*\"class\" + 0.019*\"program\"'), (3, u'0.033*\"applet\" + 0.017*\"parameter\" + 0.017*\"void\" + 0.017*\"public\" + 0.013*\"method\"'), (4, u'0.048*\"applet\" + 0.033*\"method\" + 0.033*\"browser\" + 0.025*\"called\" + 0.009*\"appletviewer\"')]\n"
          ],
          "name": "stdout"
        }
      ]
    },
    {
      "metadata": {
        "id": "ld4OuPsbtNGD",
        "colab_type": "text"
      },
      "cell_type": "markdown",
      "source": [
        "###Visualisation"
      ]
    },
    {
      "metadata": {
        "id": "ULQCIEmZxrMx",
        "colab_type": "code",
        "colab": {
          "base_uri": "https://localhost:8080/",
          "height": 861
        },
        "outputId": "4b194c36-d928-4c58-9efd-b890ea4ef660"
      },
      "cell_type": "code",
      "source": [
        "dictionary = gensim.corpora.Dictionary.load('dictionary.gensim')\n",
        "corpus = pickle.load(open('corpus.pkl', 'rb'))\n",
        "lda = gensim.models.ldamodel.LdaModel.load('model3.gensim')\n",
        "\n",
        "import pyLDAvis.gensim\n",
        "lda_display = pyLDAvis.gensim.prepare(ldamodel, corpus, dictionary, sort_topics=True)\n",
        "pyLDAvis.display(lda_display)"
      ],
      "execution_count": 347,
      "outputs": [
        {
          "output_type": "execute_result",
          "data": {
            "text/html": [
              "\n",
              "<link rel=\"stylesheet\" type=\"text/css\" href=\"https://cdn.rawgit.com/bmabey/pyLDAvis/files/ldavis.v1.0.0.css\">\n",
              "\n",
              "\n",
              "<div id=\"ldavis_el771406686082957609692272757\"></div>\n",
              "<script type=\"text/javascript\">\n",
              "\n",
              "var ldavis_el771406686082957609692272757_data = {\"plot.opts\": {\"xlab\": \"PC1\", \"ylab\": \"PC2\"}, \"topic.order\": [3, 4, 2, 1, 5], \"token.table\": {\"Topic\": [1, 1, 1, 1, 2, 1, 2, 3, 5, 2, 2, 2, 1, 3, 4, 1, 3, 4, 1, 2, 1, 3, 2, 4, 2, 1, 4, 2, 1, 2, 3, 5, 4, 4, 4, 1, 3, 1, 1, 2, 4, 2, 3, 1, 5, 1, 4, 1, 3, 3, 4, 1, 2, 3, 1, 1, 2, 3, 4, 2, 3, 4, 1, 1, 1, 3, 1, 3, 1, 1, 1, 1, 1, 4, 4, 2, 1, 1, 3, 4, 1, 1, 3, 1, 2, 2, 2, 3, 3, 2, 1, 1, 1, 1, 3, 1, 4, 4, 1, 4, 1, 4, 2, 2, 3, 1, 2, 3, 4, 3, 1, 2, 1, 1, 2, 1, 1, 2, 4, 2, 4, 1, 1, 3, 3, 3, 2, 2, 1, 2, 1, 1, 4, 1, 2, 3, 2, 2, 1, 2, 4, 4, 3, 2, 1, 2, 3, 4, 2, 2, 2, 3, 1, 3, 4, 3, 4, 3, 2, 1, 3, 1, 3, 1, 3, 3, 3, 4, 1, 1, 2, 4, 1, 2, 1, 2, 3, 4, 5, 1, 3, 2, 1, 2, 4, 3, 4, 4, 1, 4, 1, 3, 4, 4, 3, 1, 3, 1, 2, 4, 3, 2, 2, 4, 3, 4, 3, 3, 3, 1, 2, 4, 3, 4, 1, 3, 2, 1, 3, 2, 4, 3, 3, 3, 1, 3, 2, 1, 3, 1, 2, 1, 2, 2, 3, 4, 2, 3, 1, 2, 3, 1, 2, 1, 1, 3, 4, 1, 2, 3, 3, 4, 2, 1, 4, 3, 2, 1, 3, 3, 4, 1, 3, 4, 2, 4, 4, 1, 3, 4, 1, 3, 4, 4, 1, 3, 1, 3, 2, 2, 2, 3, 4, 1, 2], \"Freq\": [0.7299501895904541, 0.7598457932472229, 0.7598457932472229, 0.7598457932472229, 0.7826672196388245, 0.09688910841941833, 0.58133465051651, 0.09688910841941833, 0.19377821683883667, 0.7826671600341797, 0.7826671600341797, 0.6003522276878357, 0.38385534286499023, 0.38385534286499023, 0.8287155628204346, 0.5100464224815369, 0.5100464224815369, 0.8287155032157898, 0.7598457932472229, 0.7826671600341797, 0.7598457932472229, 0.8008482456207275, 0.7826672196388245, 0.5527167916297913, 0.7826672196388245, 0.7598457932472229, 0.8292549848556519, 0.7826672196388245, 0.23890069127082825, 0.23890069127082825, 0.23890069127082825, 0.4778013825416565, 0.8292549848556519, 0.8287155032157898, 0.8287155032157898, 0.7483528852462769, 0.3741764426231384, 0.7598459124565125, 0.4120800197124481, 0.2747200131416321, 0.2747200131416321, 0.5202292203903198, 0.5202292203903198, 0.4032178223133087, 0.4032178223133087, 0.7598457932472229, 0.8287155032157898, 0.5100484490394592, 0.5100484490394592, 0.40753471851348877, 0.40753471851348877, 0.5087959170341492, 0.2543979585170746, 0.1271989792585373, 0.7598459124565125, 0.5014992356300354, 0.12537480890750885, 0.2507496178150177, 0.12537480890750885, 0.5124955177307129, 0.8008482456207275, 0.5527167916297913, 0.9862006306648254, 0.9862006306648254, 0.8022769689559937, 0.1604553908109665, 0.7598459124565125, 0.8008482456207275, 0.7598457932472229, 0.7598457932472229, 0.7598457932472229, 0.986200749874115, 0.7598459124565125, 0.5527167320251465, 0.8287155628204346, 0.7826671600341797, 0.986200749874115, 0.2653745114803314, 0.2653745114803314, 0.5307490229606628, 0.7598457932472229, 0.7598457932472229, 0.800848126411438, 0.375493586063385, 0.375493586063385, 0.7826672196388245, 0.7826671600341797, 0.8008482456207275, 0.8008482456207275, 0.5124954581260681, 0.986200749874115, 0.7598458528518677, 0.7598459124565125, 0.5100484490394592, 0.5100484490394592, 0.9862006306648254, 0.8287155032157898, 0.8287155628204346, 0.7598457932472229, 0.8292549848556519, 0.7598458528518677, 0.8287155032157898, 0.5124956369400024, 0.7826672196388245, 0.8008482456207275, 0.3089563250541687, 0.3089563250541687, 0.3089563250541687, 0.3089563250541687, 0.5281995534896851, 0.7598459124565125, 0.5124955177307129, 0.9862006306648254, 0.7299500703811646, 0.7826672196388245, 0.7598459124565125, 0.740318238735199, 0.3701591193675995, 0.8292549848556519, 0.7826671600341797, 0.8287155032157898, 0.7598457932472229, 0.7299501299858093, 0.8008482456207275, 0.8008482456207275, 0.8008482456207275, 0.7826671600341797, 0.5124955177307129, 0.986200749874115, 0.7826672196388245, 0.7598457932472229, 0.7598457932472229, 0.8287155032157898, 0.7598457932472229, 0.5124956369400024, 0.8008482456207275, 0.6003420948982239, 0.7826672196388245, 0.3858993351459503, 0.19294966757297516, 0.3858993351459503, 0.8287155628204346, 0.8008482456207275, 0.7826671600341797, 0.31923097372055054, 0.05320516601204872, 0.4788464903831482, 0.15961548686027527, 0.7826672196388245, 0.7826672196388245, 0.7826671600341797, 0.8008482456207275, 0.1945032775402069, 0.5835098028182983, 0.1945032775402069, 0.800848126411438, 0.5527167320251465, 0.5281994342803955, 0.7826671600341797, 0.7598459124565125, 0.800848126411438, 0.7598459124565125, 0.5281994938850403, 0.7598459124565125, 0.8008482456207275, 0.6109792590141296, 0.5281995534896851, 0.8287155628204346, 0.7598457932472229, 0.3857789635658264, 0.3857789635658264, 0.3857789635658264, 0.7598458528518677, 0.7826672196388245, 0.1258997768163681, 0.2517995536327362, 0.1258997768163681, 0.3776993155479431, 0.2517995536327362, 0.7598457932472229, 0.8008482456207275, 0.5124955177307129, 0.49966132640838623, 0.16655376553535461, 0.16655376553535461, 0.8008482456207275, 0.8287155032157898, 0.8287155032157898, 0.3201335370540619, 0.6402670741081238, 0.431814581155777, 0.2159072905778885, 0.2159072905778885, 0.8287155628204346, 0.8008482456207275, 0.7598457932472229, 0.8008482456207275, 0.3062123954296112, 0.3062123954296112, 0.3062123954296112, 0.8008482456207275, 0.7826671600341797, 0.769050121307373, 0.256350040435791, 0.6368747353553772, 0.3184373676776886, 0.5281994938850403, 0.8008482456207275, 0.7880929708480835, 0.5026112794876099, 0.5026112794876099, 0.8287155032157898, 0.32718998193740845, 0.6543799638748169, 0.5144904851913452, 0.3858678340911865, 0.9095470905303955, 0.6029391884803772, 0.3014695942401886, 0.7826672196388245, 0.9678843021392822, 0.5281994938850403, 0.6109792590141296, 0.5281994342803955, 0.986200749874115, 0.5281994938850403, 0.7826672196388245, 0.5909348726272583, 0.29546743631362915, 0.7598457336425781, 0.5124955177307129, 0.7598458528518677, 0.7826672196388245, 0.20263652503490448, 0.20263652503490448, 0.6079095602035522, 0.5202283263206482, 0.5202283263206482, 0.986200749874115, 0.311398446559906, 0.622796893119812, 0.9862006306648254, 0.7619654536247253, 0.7598457932472229, 0.7598459124565125, 0.5401795506477356, 0.5401795506477356, 0.7598459124565125, 0.520229160785675, 0.520229160785675, 0.5401801466941833, 0.5401801466941833, 0.5124954581260681, 0.7598457932472229, 0.8287155628204346, 0.8008482456207275, 0.5124954581260681, 0.510047435760498, 0.510047435760498, 0.2702057361602783, 0.5404114723205566, 0.5102500915527344, 0.2551250457763672, 0.2551250457763672, 0.7826671600341797, 0.8287155628204346, 0.8287155628204346, 0.3901442289352417, 0.3901442289352417, 0.3901442289352417, 0.7598457932472229, 0.2733079493045807, 0.8199238181114197, 0.8287155032157898, 0.7598459124565125, 0.8008482456207275, 0.7598457932472229, 0.8008482456207275, 0.9095471501350403, 0.7826672196388245, 0.7826671600341797, 0.8008482456207275, 0.8287155032157898, 0.5868280529975891, 0.7826671600341797], \"Term\": [\"000\", \"ack\", \"allocate\", \"allocates\", \"animation\", \"applet\", \"applet\", \"applet\", \"applet\", \"applettemplate\", \"appletthe\", \"appletviewer\", \"application\", \"application\", \"array\", \"assigned\", \"assigned\", \"assignment\", \"athere\", \"attemptingto\", \"automatic\", \"available\", \"awt\", \"b\", \"basic\", \"behavior\", \"bfoobutton\", \"bring\", \"browser\", \"browser\", \"browser\", \"browser\", \"button\", \"buttonokequalitytwo\", \"buttonor\", \"byte\", \"byte\", \"bytecode\", \"c\", \"c\", \"c\", \"call\", \"call\", \"called\", \"called\", \"callocmalloc\", \"callocsizeofbuttonwould\", \"cannot\", \"cannot\", \"cc\", \"cc\", \"class\", \"class\", \"class\", \"classpath\", \"code\", \"code\", \"code\", \"code\", \"codeappletnameclass\", \"codedirectly\", \"codeint\", \"codevoid\", \"collection\", \"comment\", \"comment\", \"compilation\", \"compile\", \"compiler\", \"consequence\", \"consider\", \"contain\", \"containing\", \"convert\", \"converted\", \"create\", \"cstyle\", \"data\", \"data\", \"data\", \"deallocatedto\", \"deallocating\", \"defense\", \"definition\", \"definition\", \"definitionsimport\", \"destroy\", \"difficult\", \"disksthere\", \"display\", \"document\", \"done\", \"dynamically\", \"easily\", \"easily\", \"effect\", \"eg\", \"egabclength\", \"either\", \"else\", \"environment\", \"equal\", \"equivalent\", \"etc\", \"every\", \"example\", \"example\", \"example\", \"example\", \"executed\", \"executionthe\", \"extends\", \"f\", \"file\", \"fill\", \"flavor\", \"following\", \"following\", \"fooint\", \"free\", \"fromall\", \"functionthat\", \"garbage\", \"hard\", \"hardware\", \"harm\", \"hello\", \"html\", \"i\", \"ignore\", \"ill\", \"illustrate\", \"implied\", \"in\", \"include\", \"inflexible\", \"init\", \"initialize\", \"int\", \"int\", \"int\", \"integerparseintarray\", \"interpreted\", \"isimport\", \"java\", \"java\", \"java\", \"java\", \"javaappletappletimport\", \"javaawtgraphicspublic\", \"javaawtpublic\", \"javaruntime\", \"language\", \"language\", \"language\", \"latest\", \"length\", \"library\", \"life\", \"lifecycle\", \"line\", \"linking\", \"machine\", \"machineindependent\", \"machineindependentbyte\", \"main\", \"make\", \"may\", \"member\", \"memory\", \"memory\", \"memory\", \"memoryas\", \"message\", \"method\", \"method\", \"method\", \"method\", \"method\", \"methodcauses\", \"methodsrobustnessthe\", \"namep\", \"new\", \"new\", \"new\", \"nonportable\", \"notnecessarymethod\", \"now\", \"null\", \"null\", \"object\", \"object\", \"object\", \"obtained\", \"ofyour\", \"old\", \"onany\", \"operator\", \"operator\", \"operator\", \"orviruses\", \"paintgraphics\", \"parameter\", \"parameter\", \"passed\", \"passed\", \"platform\", \"platformsecuritythe\", \"portable\", \"predefined\", \"predefined\", \"pretend\", \"primitive\", \"primitive\", \"program\", \"program\", \"public\", \"reference\", \"reference\", \"resource\", \"return\", \"robust\", \"run\", \"runtime\", \"section\", \"secure\", \"simple\", \"source\", \"source\", \"stale\", \"start\", \"state\", \"stop\", \"string\", \"string\", \"string\", \"structure\", \"structure\", \"style\", \"system\", \"system\", \"t\", \"tag\", \"task\", \"thatspecify\", \"the\", \"the\", \"thedirectories\", \"therefore\", \"therefore\", \"thesame\", \"thesame\", \"thread\", \"time\", \"toconvert\", \"translated\", \"trivialapplet\", \"two\", \"two\", \"type\", \"type\", \"use\", \"use\", \"use\", \"usea\", \"useint\", \"usestring\", \"using\", \"using\", \"using\", \"validthere\", \"value\", \"value\", \"valuesarguments\", \"variable\", \"version\", \"via\", \"virtually\", \"void\", \"web\", \"world\", \"write\", \"written\", \"www\", \"youoverride\"]}, \"mdsDat\": {\"y\": [-0.08880433529906168, -0.013185670268044434, -0.005187929637435666, 0.1393796051914363, -0.0322016699868944], \"cluster\": [1, 1, 1, 1, 1], \"Freq\": [29.060110092163086, 24.537797927856445, 21.315353393554688, 17.813161849975586, 7.273582935333252], \"topics\": [1, 2, 3, 4, 5], \"x\": [0.07741089123877005, -0.1529377910642882, 0.08246775165792598, 0.02950301729855175, -0.036443869130959344]}, \"R\": 30, \"lambda.step\": 0.01, \"tinfo\": {\"Category\": [\"Default\", \"Default\", \"Default\", \"Default\", \"Default\", \"Default\", \"Default\", \"Default\", \"Default\", \"Default\", \"Default\", \"Default\", \"Default\", \"Default\", \"Default\", \"Default\", \"Default\", \"Default\", \"Default\", \"Default\", \"Default\", \"Default\", \"Default\", \"Default\", \"Default\", \"Default\", \"Default\", \"Default\", \"Default\", \"Default\", \"Topic1\", \"Topic1\", \"Topic1\", \"Topic1\", \"Topic1\", \"Topic1\", \"Topic1\", \"Topic1\", \"Topic1\", \"Topic1\", \"Topic1\", \"Topic1\", \"Topic1\", \"Topic1\", \"Topic1\", \"Topic1\", \"Topic1\", \"Topic1\", \"Topic1\", \"Topic1\", \"Topic1\", \"Topic1\", \"Topic1\", \"Topic1\", \"Topic1\", \"Topic1\", \"Topic1\", \"Topic1\", \"Topic1\", \"Topic1\", \"Topic1\", \"Topic1\", \"Topic1\", \"Topic1\", \"Topic1\", \"Topic1\", \"Topic1\", \"Topic1\", \"Topic1\", \"Topic1\", \"Topic1\", \"Topic1\", \"Topic1\", \"Topic1\", \"Topic1\", \"Topic1\", \"Topic1\", \"Topic1\", \"Topic1\", \"Topic1\", \"Topic1\", \"Topic1\", \"Topic1\", \"Topic1\", \"Topic1\", \"Topic1\", \"Topic1\", \"Topic1\", \"Topic1\", \"Topic1\", \"Topic1\", \"Topic1\", \"Topic1\", \"Topic1\", \"Topic1\", \"Topic1\", \"Topic1\", \"Topic1\", \"Topic1\", \"Topic1\", \"Topic1\", \"Topic1\", \"Topic2\", \"Topic2\", \"Topic2\", \"Topic2\", \"Topic2\", \"Topic2\", \"Topic2\", \"Topic2\", \"Topic2\", \"Topic2\", \"Topic2\", \"Topic2\", \"Topic2\", \"Topic2\", \"Topic2\", \"Topic2\", \"Topic2\", \"Topic2\", \"Topic2\", \"Topic2\", \"Topic2\", \"Topic2\", \"Topic2\", \"Topic2\", \"Topic2\", \"Topic2\", \"Topic2\", \"Topic2\", \"Topic2\", \"Topic2\", \"Topic2\", \"Topic2\", \"Topic2\", \"Topic2\", \"Topic2\", \"Topic2\", \"Topic2\", \"Topic2\", \"Topic2\", \"Topic2\", \"Topic2\", \"Topic2\", \"Topic2\", \"Topic2\", \"Topic2\", \"Topic2\", \"Topic2\", \"Topic2\", \"Topic2\", \"Topic2\", \"Topic2\", \"Topic2\", \"Topic2\", \"Topic2\", \"Topic3\", \"Topic3\", \"Topic3\", \"Topic3\", \"Topic3\", \"Topic3\", \"Topic3\", \"Topic3\", \"Topic3\", \"Topic3\", \"Topic3\", \"Topic3\", \"Topic3\", \"Topic3\", \"Topic3\", \"Topic3\", \"Topic3\", \"Topic3\", \"Topic3\", \"Topic3\", \"Topic3\", \"Topic3\", \"Topic3\", \"Topic3\", \"Topic3\", \"Topic3\", \"Topic3\", \"Topic3\", \"Topic3\", \"Topic3\", \"Topic3\", \"Topic3\", \"Topic3\", \"Topic3\", \"Topic3\", \"Topic3\", \"Topic3\", \"Topic3\", \"Topic3\", \"Topic3\", \"Topic3\", \"Topic3\", \"Topic3\", \"Topic3\", \"Topic3\", \"Topic3\", \"Topic3\", \"Topic3\", \"Topic3\", \"Topic3\", \"Topic3\", \"Topic3\", \"Topic3\", \"Topic3\", \"Topic3\", \"Topic3\", \"Topic4\", \"Topic4\", \"Topic4\", \"Topic4\", \"Topic4\", \"Topic4\", \"Topic4\", \"Topic4\", \"Topic4\", \"Topic4\", \"Topic4\", \"Topic4\", \"Topic4\", \"Topic4\", \"Topic4\", \"Topic4\", \"Topic4\", \"Topic4\", \"Topic4\", \"Topic4\", \"Topic4\", \"Topic4\", \"Topic4\", \"Topic4\", \"Topic4\", \"Topic4\", \"Topic4\", \"Topic4\", \"Topic4\", \"Topic4\", \"Topic4\", \"Topic4\", \"Topic4\", \"Topic4\", \"Topic4\", \"Topic4\", \"Topic4\", \"Topic4\", \"Topic4\", \"Topic4\", \"Topic4\", \"Topic4\", \"Topic4\", \"Topic4\", \"Topic4\", \"Topic4\", \"Topic4\", \"Topic4\", \"Topic4\", \"Topic5\", \"Topic5\", \"Topic5\", \"Topic5\", \"Topic5\", \"Topic5\", \"Topic5\", \"Topic5\", \"Topic5\", \"Topic5\", \"Topic5\", \"Topic5\", \"Topic5\", \"Topic5\", \"Topic5\", \"Topic5\", \"Topic5\", \"Topic5\", \"Topic5\", \"Topic5\", \"Topic5\", \"Topic5\", \"Topic5\", \"Topic5\", \"Topic5\", \"Topic5\", \"Topic5\", \"Topic5\", \"Topic5\", \"Topic5\", \"Topic5\", \"Topic5\"], \"Term\": [\"return\", \"applet\", \"java\", \"method\", \"browser\", \"called\", \"program\", \"string\", \"comment\", \"value\", \"language\", \"void\", \"public\", \"type\", \"fooint\", \"else\", \"button\", \"bfoobutton\", \"primitive\", \"parameter\", \"null\", \"portable\", \"passed\", \"data\", \"system\", \"tag\", \"c\", \"main\", \"run\", \"appletviewer\", \"000\", \"garbage\", \"file\", \"comment\", \"f\", \"effect\", \"collection\", \"t\", \"codevoid\", \"contain\", \"i\", \"style\", \"document\", \"section\", \"cstyle\", \"source\", \"thatspecify\", \"dynamically\", \"either\", \"flavor\", \"old\", \"executionthe\", \"functionthat\", \"lifecycle\", \"via\", \"ack\", \"deallocatedto\", \"machineindependent\", \"linking\", \"classpath\", \"illustrate\", \"in\", \"bytecode\", \"methodcauses\", \"compilation\", \"consequence\", \"thedirectories\", \"state\", \"callocmalloc\", \"done\", \"allocates\", \"validthere\", \"memoryas\", \"environment\", \"time\", \"byte\", \"consider\", \"following\", \"program\", \"new\", \"class\", \"code\", \"object\", \"c\", \"java\", \"compiler\", \"member\", \"allocate\", \"task\", \"reference\", \"variable\", \"ill\", \"stale\", \"use\", \"athere\", \"deallocating\", \"int\", \"behavior\", \"automatic\", \"containing\", \"memory\", \"assigned\", \"void\", \"public\", \"tag\", \"thread\", \"start\", \"extends\", \"display\", \"trivialapplet\", \"namep\", \"html\", \"include\", \"codeappletnameclass\", \"equivalent\", \"parameter\", \"initialize\", \"fill\", \"animation\", \"etc\", \"simple\", \"awt\", \"ignore\", \"resource\", \"message\", \"stop\", \"web\", \"destroy\", \"javaappletappletimport\", \"javaawtgraphicspublic\", \"attemptingto\", \"basic\", \"definitionsimport\", \"bring\", \"applet\", \"definition\", \"life\", \"appletthe\", \"world\", \"create\", \"free\", \"isimport\", \"operator\", \"paintgraphics\", \"usea\", \"javaawtpublic\", \"hello\", \"c\", \"youoverride\", \"applettemplate\", \"class\", \"method\", \"int\", \"new\", \"structure\", \"predefined\", \"portable\", \"library\", \"machine\", \"platform\", \"runtime\", \"secure\", \"executed\", \"robust\", \"make\", \"passed\", \"language\", \"system\", \"inflexible\", \"ofyour\", \"interpreted\", \"harm\", \"onany\", \"disksthere\", \"platformsecuritythe\", \"compile\", \"nonportable\", \"write\", \"virtually\", \"javaruntime\", \"hardware\", \"difficult\", \"codedirectly\", \"version\", \"methodsrobustnessthe\", \"defense\", \"java\", \"orviruses\", \"application\", \"program\", \"available\", \"every\", \"latest\", \"reference\", \"hard\", \"type\", \"machineindependentbyte\", \"translated\", \"use\", \"code\", \"line\", \"object\", \"class\", \"applet\", \"example\", \"cannot\", \"easily\", \"the\", \"two\", \"call\", \"therefore\", \"data\", \"return\", \"bfoobutton\", \"else\", \"button\", \"fooint\", \"b\", \"codeint\", \"length\", \"convert\", \"value\", \"string\", \"primitive\", \"null\", \"notnecessarymethod\", \"eg\", \"callocsizeofbuttonwould\", \"pretend\", \"buttonokequalitytwo\", \"equal\", \"fromall\", \"buttonor\", \"now\", \"valuesarguments\", \"assignment\", \"implied\", \"written\", \"toconvert\", \"array\", \"useint\", \"integerparseintarray\", \"obtained\", \"usestring\", \"egabclength\", \"type\", \"data\", \"cc\", \"converted\", \"may\", \"int\", \"method\", \"c\", \"java\", \"new\", \"code\", \"memory\", \"operator\", \"using\", \"example\", \"thesame\", \"called\", \"creation\", \"whenever\", \"calledonce\", \"leave\", \"needsto\", \"deiconify\", \"iconifyyour\", \"take\", \"area\", \"startingclassnamemain\", \"place\", \"effectcreates\", \"constructor\", \"scoped\", \"drawing\", \"orin\", \"within\", \"isrevisited\", \"executionan\", \"redrawn\", \"symbol\", \"javacompatible\", \"methodapplet\", \"browser\", \"main\", \"run\", \"appletviewer\", \"init\", \"www\", \"applet\", \"method\"], \"loglift\": [30.0, 29.0, 28.0, 27.0, 26.0, 25.0, 24.0, 23.0, 22.0, 21.0, 20.0, 19.0, 18.0, 17.0, 16.0, 15.0, 14.0, 13.0, 12.0, 11.0, 10.0, 9.0, 8.0, 7.0, 6.0, 5.0, 4.0, 3.0, 2.0, 1.0, 1.051200032234192, 1.051200032234192, 1.051200032234192, 1.0405000448226929, 0.977400004863739, 0.977400004863739, 0.977400004863739, 0.977400004863739, 0.977400004863739, 0.977400004863739, 0.977400004863739, 0.977400004863739, 0.977400004863739, 0.977400004863739, 0.977400004863739, 0.8399999737739563, 0.8036999702453613, 0.8036999702453613, 0.8036999702453613, 0.8036999702453613, 0.8036999702453613, 0.8036999702453613, 0.8036999702453613, 0.8036999702453613, 0.8036999702453613, 0.8036999702453613, 0.8036999702453613, 0.8036999702453613, 0.8036999702453613, 0.8036999702453613, 0.8036999702453613, 0.8036999702453613, 0.8036999702453613, 0.8036999702453613, 0.8036999702453613, 0.8036999702453613, 0.8036999702453613, 0.8036999702453613, 0.8036999702453613, 0.8036999702453613, 0.8036999702453613, 0.8036999702453613, 0.8036999702453613, 0.8036999702453613, 0.8036999702453613, 0.7014999985694885, 0.8036999702453613, 0.6906999945640564, 0.49380001425743103, 0.5389000177383423, 0.4828000068664551, 0.4684000015258789, 0.5264000296592712, 0.34610000252723694, 0.06689999997615814, 0.8036999702453613, 0.8036999702453613, 0.8036999702453613, 0.8036999702453613, 0.48539999127388, 0.8036999702453613, 0.8036999702453613, 0.8036999702453613, 0.31839999556541443, 0.8036999702453613, 0.8036999702453613, 0.03920000046491623, 0.8036999702453613, 0.8036999702453613, 0.8036999702453613, 0.12600000202655792, 0.4050999879837036, 1.2513999938964844, 1.2513999938964844, 1.207900047302246, 1.1297999620437622, 1.1297999620437622, 1.1297999620437622, 1.1297999620437622, 1.1297999620437622, 1.1297999620437622, 1.1297999620437622, 1.1297999620437622, 1.1297999620437622, 1.1297999620437622, 1.0836999416351318, 0.9470000267028809, 0.9470000267028809, 0.9470000267028809, 0.9470000267028809, 0.9470000267028809, 0.9470000267028809, 0.9470000267028809, 0.9470000267028809, 0.9470000267028809, 0.9470000267028809, 0.9470000267028809, 0.9470000267028809, 0.9470000267028809, 0.9470000267028809, 0.9470000267028809, 0.9470000267028809, 0.9470000267028809, 0.9470000267028809, 0.7799000144004822, 0.8187000155448914, 0.9470000267028809, 0.9470000267028809, 0.9470000267028809, 0.9470000267028809, 0.9470000267028809, 0.9470000267028809, 0.6147000193595886, 0.9470000267028809, 0.9470000267028809, 0.9470000267028809, 0.9470000267028809, 0.18729999661445618, 0.9470000267028809, 0.9470000267028809, 0.11089999973773956, 0.10080000013113022, 0.15230000019073486, 0.005100000184029341, 0.5386999845504761, 0.5041999816894531, 1.3384000062942505, 1.256700038909912, 1.256700038909912, 1.256700038909912, 1.256700038909912, 1.256700038909912, 1.256700038909912, 1.256700038909912, 1.256700038909912, 1.1253999471664429, 1.1181000471115112, 1.1030999422073364, 1.0667999982833862, 1.0667999982833862, 1.0667999982833862, 1.0667999982833862, 1.0667999982833862, 1.0667999982833862, 1.0667999982833862, 1.0667999982833862, 1.0667999982833862, 1.0667999982833862, 1.0667999982833862, 1.0667999982833862, 1.0667999982833862, 1.0667999982833862, 1.0667999982833862, 1.0667999982833862, 1.0667999982833862, 1.0667999982833862, 0.82669997215271, 1.0667999982833862, 0.9375, 0.7044000029563904, 1.0667999982833862, 1.0667999982833862, 1.0667999982833862, 0.695900022983551, 1.0667999982833862, 0.5863000154495239, 1.0667999982833862, 1.0667999982833862, 0.52920001745224, 0.19339999556541443, 1.0667999982833862, 0.3621000051498413, -0.1670999974012375, -0.44020000100135803, 0.1143999993801117, 0.6157000064849854, 0.6157000064849854, 0.6729999780654907, 0.6155999898910522, 0.6353999972343445, 0.6353999972343445, -0.03779999911785126, 1.656000018119812, 1.5013999938964844, 1.5013999938964844, 1.5013999938964844, 1.5013999938964844, 1.414199948310852, 1.414199948310852, 1.414199948310852, 1.414199948310852, 1.3567999601364136, 1.271299958229065, 1.264799952507019, 1.242900013923645, 1.2130999565124512, 1.2130999565124512, 1.2130999565124512, 1.2130999565124512, 1.2130999565124512, 1.2130999565124512, 1.2130999565124512, 1.2130999565124512, 1.2130999565124512, 1.2130999565124512, 1.2130999565124512, 1.2130999565124512, 1.2130999565124512, 1.2130999565124512, 1.2130999565124512, 1.2130999565124512, 1.2130999565124512, 1.2130999565124512, 1.2130999565124512, 1.2130999565124512, 1.0734000205993652, 1.055299997329712, 1.1095999479293823, 1.2130999565124512, 1.2130999565124512, 0.7368000149726868, 0.5814999938011169, 0.3968999981880188, -0.27950000762939453, 0.21490000188350677, -0.06930000334978104, 0.4487000107765198, 0.21770000457763672, 0.45989999175071716, 0.226500004529953, 0.785099983215332, 1.9292999505996704, 1.8645000457763672, 1.8645000457763672, 1.8645000457763672, 1.8645000457763672, 1.8645000457763672, 1.8645000457763672, 1.8645000457763672, 1.8645000457763672, 1.8645000457763672, 1.8645000457763672, 1.8645000457763672, 1.8645000457763672, 1.8645000457763672, 1.8645000457763672, 1.8645000457763672, 1.8645000457763672, 1.8645000457763672, 1.8645000457763672, 1.8645000457763672, 1.8645000457763672, 1.8645000457763672, 1.8645000457763672, 1.8645000457763672, 1.6780999898910522, 1.3639999628067017, 1.3639999628067017, 1.346500039100647, 1.3464000225067139, 1.323699951171875, 1.1650999784469604, 1.0378999710083008], \"Freq\": [7.0, 10.0, 18.0, 7.0, 4.0, 2.0, 7.0, 4.0, 6.0, 3.0, 5.0, 3.0, 3.0, 3.0, 2.0, 2.0, 2.0, 2.0, 3.0, 3.0, 3.0, 2.0, 3.0, 3.0, 3.0, 2.0, 7.0, 1.0, 1.0, 1.0, 2.278167486190796, 2.278167724609375, 2.278167724609375, 5.126805305480957, 1.5662399530410767, 1.5662399530410767, 1.566239833831787, 1.566239833831787, 1.566239833831787, 1.566239595413208, 1.566239356994629, 1.5662392377853394, 1.5662392377853394, 1.5662389993667603, 1.5662389993667603, 2.2782442569732666, 0.8543117642402649, 0.8543117046356201, 0.8543117642402649, 0.8543115854263306, 0.8543117642402649, 0.8543115854263306, 0.8543117642402649, 0.8543115854263306, 0.8543117642402649, 0.8543117642402649, 0.8543117642402649, 0.8543115854263306, 0.8543115854263306, 0.8543115854263306, 0.8543117642402649, 0.8543117642402649, 0.8543115854263306, 0.8543117642402649, 0.8543115854263306, 0.8543117642402649, 0.8543115854263306, 0.8543117046356201, 0.8543117642402649, 0.8543117046356201, 0.8543117642402649, 0.8543117642402649, 0.8543117046356201, 0.8543117046356201, 0.8543117642402649, 1.5662751197814941, 0.8543117642402649, 1.5662797689437866, 3.7021493911743164, 2.990800142288208, 3.702305316925049, 3.702469825744629, 2.2785136699676514, 2.990567922592163, 5.839606761932373, 0.8543117642402649, 0.8543117046356201, 0.8543117046356201, 0.8543117046356201, 1.5662791728973389, 0.8543114066123962, 0.8543117046356201, 0.8543117642402649, 1.5661836862564087, 0.8543117046356201, 0.8543117046356201, 1.566382884979248, 0.8543117046356201, 0.8543115854263306, 0.8543115258216858, 0.8544334173202515, 0.8543316721916199, 2.8289246559143066, 2.8289244174957275, 2.155369997024536, 1.481817603111267, 1.4818172454833984, 1.4818172454833984, 1.4818172454833984, 1.4818166494369507, 1.4818158149719238, 1.481816053390503, 1.4818153381347656, 1.4818158149719238, 1.481813669204712, 2.829045057296753, 0.8082631230354309, 0.8082631230354309, 0.8082631230354309, 0.8082631230354309, 0.8082631230354309, 0.8082631230354309, 0.8082631230354309, 0.8082631230354309, 0.8082631230354309, 0.8082630634307861, 0.8082630634307861, 0.8082631230354309, 0.8082630634307861, 0.8082630634307861, 0.8082631230354309, 0.8082630634307861, 0.8082630634307861, 0.8082630634307861, 5.523997783660889, 1.4818720817565918, 0.8082630634307861, 0.8082630634307861, 0.8082630634307861, 0.8082630634307861, 0.8082630634307861, 0.8082630634307861, 1.4816837310791016, 0.8082630634307861, 0.8082630634307861, 0.8082630634307861, 0.8082630634307861, 2.1543173789978027, 0.8082630634307861, 0.8082630634307861, 2.1554346084594727, 2.155660629272461, 1.4809544086456299, 1.480793833732605, 0.8083330988883972, 0.8082776665687561, 2.062549114227295, 1.4180035591125488, 1.4180034399032593, 1.4180033206939697, 1.4180032014846802, 1.4180022478103638, 1.4180020093917847, 1.4180022478103638, 1.4180010557174683, 2.0626187324523926, 3.352389335632324, 2.0626769065856934, 0.7734556794166565, 0.7734556794166565, 0.7734556794166565, 0.7734556794166565, 0.7734556794166565, 0.7734556794166565, 0.7734556794166565, 0.7734556794166565, 0.7734556794166565, 0.7734556794166565, 0.7734556794166565, 0.7734556794166565, 0.7734556794166565, 0.7734556794166565, 0.7734556794166565, 0.7734556794166565, 0.7734555602073669, 0.7734556794166565, 9.15768051147461, 0.7734555602073669, 1.4180384874343872, 3.3518028259277344, 0.7734555602073669, 0.7734555602073669, 0.7734556794166565, 1.4179679155349731, 0.7734556198120117, 1.417763113975525, 0.7734555602073669, 0.7734556198120117, 1.4182597398757935, 2.0628879070281982, 0.7734556794166565, 1.4179619550704956, 1.4179116487503052, 1.416614294052124, 0.7735187411308289, 0.77351313829422, 0.7735129594802856, 0.7734889984130859, 0.7734760642051697, 0.7734620571136475, 0.7734619379043579, 0.7734584212303162, 6.748651504516602, 1.9281855821609497, 1.9281855821609497, 1.9281855821609497, 1.9281855821609497, 1.325627088546753, 1.325627088546753, 1.3256263732910156, 1.3256263732910156, 2.5312132835388184, 3.1342830657958984, 1.9285151958465576, 1.928377628326416, 0.7230688333511353, 0.7230688333511353, 0.7230688333511353, 0.7230688333511353, 0.7230688333511353, 0.7230688333511353, 0.7230688333511353, 0.7230688333511353, 0.7230688333511353, 0.7230688333511353, 0.7230688333511353, 0.7230688333511353, 0.7230688333511353, 0.7230677604675293, 0.7230677604675293, 0.7230677604675293, 0.7230677604675293, 0.7230677604675293, 0.7230677604675293, 0.7230677604675293, 1.9284107685089111, 1.928288459777832, 1.3258283138275146, 0.7230677604675293, 0.7230677604675293, 1.9288374185562134, 2.530752182006836, 1.9287304878234863, 2.531611204147339, 1.32594895362854, 1.3256990909576416, 0.723210334777832, 0.7231960296630859, 0.7231593728065491, 0.7231447696685791, 0.7230713963508606, 1.2419697046279907, 0.46566274762153625, 0.46566274762153625, 0.46566274762153625, 0.46566274762153625, 0.4656626880168915, 0.46566274762153625, 0.4656626880168915, 0.4656626880168915, 0.46566274762153625, 0.46566274762153625, 0.46566274762153625, 0.4656626880168915, 0.4656626880168915, 0.4656626880168915, 0.4656626880168915, 0.4656626880168915, 0.4656626880168915, 0.4656626880168915, 0.4656626880168915, 0.4656626880168915, 0.4656626880168915, 0.4656626582145691, 0.4656626582145691, 1.6305222511291504, 0.4656832218170166, 0.46568313241004944, 0.4657275080680847, 0.465689092874527, 0.4657035171985626, 2.407036304473877, 1.6310527324676514], \"Total\": [7.0, 10.0, 18.0, 7.0, 4.0, 2.0, 7.0, 4.0, 6.0, 3.0, 5.0, 3.0, 3.0, 3.0, 2.0, 2.0, 2.0, 2.0, 3.0, 3.0, 3.0, 2.0, 3.0, 3.0, 3.0, 2.0, 7.0, 1.0, 1.0, 1.0, 2.739912986755371, 2.73991322517395, 2.7399134635925293, 6.232261657714844, 2.027984857559204, 2.027984857559204, 2.027984857559204, 2.027984857559204, 2.027984857559204, 2.027984619140625, 2.027984619140625, 2.027984619140625, 2.027984619140625, 2.027984619140625, 2.027984619140625, 3.384467840194702, 1.316056251525879, 1.316056251525879, 1.316056489944458, 1.316056251525879, 1.316056489944458, 1.316056251525879, 1.316056489944458, 1.316056251525879, 1.316056489944458, 1.316056489944458, 1.316056489944458, 1.316056251525879, 1.316056251525879, 1.316056251525879, 1.316056489944458, 1.316056489944458, 1.316056251525879, 1.316056489944458, 1.316056251525879, 1.316056489944458, 1.316056251525879, 1.3160563707351685, 1.316056489944458, 1.3160563707351685, 1.316056489944458, 1.316056489944458, 1.3160563707351685, 1.3160563707351685, 1.316056489944458, 2.6725358963012695, 1.316056489944458, 2.701540946960449, 7.774682521820068, 6.0040669441223145, 7.861698150634766, 7.976084232330322, 4.631617546081543, 7.280139446258545, 18.795167922973633, 1.316056489944458, 1.316056489944458, 1.316056489944458, 1.316056489944458, 3.3170840740203857, 1.316056251525879, 1.316056489944458, 1.3160566091537476, 3.9196465015411377, 1.316056489944458, 1.316056489944458, 5.182698726654053, 1.316056489944458, 1.316056489944458, 1.316056251525879, 2.5921578407287598, 1.9606058597564697, 3.298344612121582, 3.298344850540161, 2.624790906906128, 1.9512368440628052, 1.951236605644226, 1.951236605644226, 1.9512367248535156, 1.9512367248535156, 1.9512364864349365, 1.951236605644226, 1.9512361288070679, 1.951236605644226, 1.9512361288070679, 3.90091609954834, 1.2776821851730347, 1.2776821851730347, 1.2776821851730347, 1.2776821851730347, 1.2776821851730347, 1.2776821851730347, 1.2776821851730347, 1.2776821851730347, 1.2776821851730347, 1.2776821851730347, 1.2776821851730347, 1.2776823043823242, 1.2776821851730347, 1.2776821851730347, 1.2776823043823242, 1.2776821851730347, 1.2776821851730347, 1.2776821851730347, 10.321077346801758, 2.663161277770996, 1.2776823043823242, 1.2776823043823242, 1.2776823043823242, 1.2776823043823242, 1.2776823043823242, 1.2776823043823242, 3.265707015991211, 1.2776823043823242, 1.2776823043823242, 1.2776823043823242, 1.2776823043823242, 7.280139446258545, 1.2776823043823242, 1.2776823043823242, 7.861698150634766, 7.942826271057129, 5.182698726654053, 6.0040669441223145, 1.9222328662872314, 1.9896091222763062, 2.537771701812744, 1.8932242393493652, 1.8932241201400757, 1.8932241201400757, 1.8932242393493652, 1.8932240009307861, 1.8932238817214966, 1.8932240009307861, 1.893223762512207, 3.1403350830078125, 5.14130163192749, 3.2113196849823, 1.248676061630249, 1.248676061630249, 1.248676061630249, 1.248676061630249, 1.248676061630249, 1.248676061630249, 1.248676061630249, 1.248676061630249, 1.248676061630249, 1.248676061630249, 1.248676061630249, 1.248676061630249, 1.248676061630249, 1.248676061630249, 1.248676061630249, 1.248676061630249, 1.248676061630249, 1.2486761808395386, 18.795167922973633, 1.248676061630249, 2.6051480770111084, 7.774682521820068, 1.248676061630249, 1.248676061630249, 1.2486761808395386, 3.3170840740203857, 1.248676061630249, 3.7008838653564453, 1.248676061630249, 1.248676061630249, 3.9196465015411377, 7.976084232330322, 1.2486761808395386, 4.631617546081543, 7.861698150634766, 10.321077346801758, 3.236703395843506, 1.960598111152649, 1.9605979919433594, 1.8512362241744995, 1.960602045059204, 1.9222296476364136, 1.9222297668457031, 3.7682595252990723, 7.232269287109375, 2.4118034839630127, 2.4118034839630127, 2.4118034839630127, 2.4118034839630127, 1.8092448711395264, 1.8092448711395264, 1.809244990348816, 1.809244990348816, 3.658876419067383, 4.9349446296691895, 3.056328296661377, 3.1236963272094727, 1.2066867351531982, 1.2066867351531982, 1.2066867351531982, 1.2066867351531982, 1.2066867351531982, 1.2066867351531982, 1.2066867351531982, 1.2066867351531982, 1.2066867351531982, 1.2066867351531982, 1.2066867351531982, 1.2066867351531982, 1.2066867351531982, 1.2066866159439087, 1.2066866159439087, 1.2066866159439087, 1.2066866159439087, 1.2066866159439087, 1.2066866159439087, 1.2066866159439087, 3.7008838653564453, 3.7682595252990723, 2.4537787437438965, 1.2066866159439087, 1.2066866159439087, 5.182698726654053, 7.942826271057129, 7.280139446258545, 18.795167922973633, 6.0040669441223145, 7.976084232330322, 2.5921578407287598, 3.265707015991211, 2.563154697418213, 3.236703395843506, 1.8512341976165771, 2.4800491333007812, 0.9921821355819702, 0.9921821355819702, 0.9921821355819702, 0.9921822547912598, 0.9921821355819702, 0.9921822547912598, 0.9921821355819702, 0.9921821355819702, 0.9921822547912598, 0.9921822547912598, 0.9921822547912598, 0.9921822547912598, 0.9921822547912598, 0.9921822547912598, 0.9921822547912598, 0.9921822547912598, 0.9921822547912598, 0.9921822547912598, 0.9921822547912598, 0.9921822547912598, 0.9921822547912598, 0.9921823143959045, 0.9921823143959045, 4.185839653015137, 1.6367167234420776, 1.6367168426513672, 1.6656887531280518, 1.6657170057296753, 1.7040766477584839, 10.321077346801758, 7.942826271057129], \"logprob\": [30.0, 29.0, 28.0, 27.0, 26.0, 25.0, 24.0, 23.0, 22.0, 21.0, 20.0, 19.0, 18.0, 17.0, 16.0, 15.0, 14.0, 13.0, 12.0, 11.0, 10.0, 9.0, 8.0, 7.0, 6.0, 5.0, 4.0, 3.0, 2.0, 1.0, -4.468800067901611, -4.468800067901611, -4.468800067901611, -3.6577000617980957, -4.843500137329102, -4.843500137329102, -4.843500137329102, -4.843500137329102, -4.843500137329102, -4.843500137329102, -4.843500137329102, -4.843500137329102, -4.843500137329102, -4.843500137329102, -4.843500137329102, -4.468699932098389, -5.4496002197265625, -5.4496002197265625, -5.4496002197265625, -5.4496002197265625, -5.4496002197265625, -5.4496002197265625, -5.4496002197265625, -5.4496002197265625, -5.4496002197265625, -5.4496002197265625, -5.4496002197265625, -5.4496002197265625, -5.4496002197265625, -5.4496002197265625, -5.4496002197265625, -5.4496002197265625, -5.4496002197265625, -5.4496002197265625, -5.4496002197265625, -5.4496002197265625, -5.4496002197265625, -5.4496002197265625, -5.4496002197265625, -5.4496002197265625, -5.4496002197265625, -5.4496002197265625, -5.4496002197265625, -5.4496002197265625, -5.4496002197265625, -4.843500137329102, -5.4496002197265625, -4.843500137329102, -3.9832000732421875, -4.196599960327148, -3.9832000732421875, -3.9832000732421875, -4.468599796295166, -4.196700096130371, -3.5274999141693115, -5.4496002197265625, -5.4496002197265625, -5.4496002197265625, -5.4496002197265625, -4.843500137329102, -5.4496002197265625, -5.4496002197265625, -5.4496002197265625, -4.843500137329102, -5.4496002197265625, -5.4496002197265625, -4.843400001525879, -5.4496002197265625, -5.4496002197265625, -5.4496002197265625, -5.44950008392334, -5.4496002197265625, -4.083099842071533, -4.083099842071533, -4.355000019073486, -4.729700088500977, -4.729700088500977, -4.729700088500977, -4.729700088500977, -4.729700088500977, -4.729700088500977, -4.729700088500977, -4.729700088500977, -4.729700088500977, -4.729700088500977, -4.083099842071533, -5.335899829864502, -5.335899829864502, -5.335899829864502, -5.335899829864502, -5.335899829864502, -5.335899829864502, -5.335899829864502, -5.335899829864502, -5.335899829864502, -5.335899829864502, -5.335899829864502, -5.335899829864502, -5.335899829864502, -5.335899829864502, -5.335899829864502, -5.335899829864502, -5.335899829864502, -5.335899829864502, -3.4138998985290527, -4.729700088500977, -5.335899829864502, -5.335899829864502, -5.335899829864502, -5.335899829864502, -5.335899829864502, -5.335899829864502, -4.729800224304199, -5.335899829864502, -5.335899829864502, -5.335899829864502, -5.335899829864502, -4.355500221252441, -5.335899829864502, -5.335899829864502, -4.355000019073486, -4.354899883270264, -4.730299949645996, -4.730400085449219, -5.3358001708984375, -5.335899829864502, -4.258299827575684, -4.632999897003174, -4.632999897003174, -4.632999897003174, -4.632999897003174, -4.632999897003174, -4.632999897003174, -4.632999897003174, -4.632999897003174, -4.258200168609619, -3.7725000381469727, -4.258200168609619, -5.239099979400635, -5.239099979400635, -5.239099979400635, -5.239099979400635, -5.239099979400635, -5.239099979400635, -5.239099979400635, -5.239099979400635, -5.239099979400635, -5.239099979400635, -5.239099979400635, -5.239099979400635, -5.239099979400635, -5.239099979400635, -5.239099979400635, -5.239099979400635, -5.239099979400635, -5.239099979400635, -2.7676000595092773, -5.239099979400635, -4.632900238037109, -3.772700071334839, -5.239099979400635, -5.239099979400635, -5.239099979400635, -4.632999897003174, -5.239099979400635, -4.6331000328063965, -5.239099979400635, -5.239099979400635, -4.632800102233887, -4.2581000328063965, -5.239099979400635, -4.632999897003174, -4.632999897003174, -4.633900165557861, -5.238999843597412, -5.238999843597412, -5.238999843597412, -5.239099979400635, -5.239099979400635, -5.239099979400635, -5.239099979400635, -5.239099979400635, -2.893399953842163, -4.146100044250488, -4.146100044250488, -4.146100044250488, -4.146100044250488, -4.5208001136779785, -4.5208001136779785, -4.5208001136779785, -4.5208001136779785, -3.874000072479248, -3.6603000164031982, -4.145999908447266, -4.145999908447266, -5.126999855041504, -5.126999855041504, -5.126999855041504, -5.126999855041504, -5.126999855041504, -5.126999855041504, -5.126999855041504, -5.126999855041504, -5.126999855041504, -5.126999855041504, -5.126999855041504, -5.126999855041504, -5.126999855041504, -5.126999855041504, -5.126999855041504, -5.126999855041504, -5.126999855041504, -5.126999855041504, -5.126999855041504, -5.126999855041504, -4.145999908447266, -4.146100044250488, -4.520699977874756, -5.126999855041504, -5.126999855041504, -4.1458001136779785, -3.8742001056671143, -4.145899772644043, -3.8738999366760254, -4.520599842071533, -4.5208001136779785, -5.126800060272217, -5.126800060272217, -5.1269001960754395, -5.1269001960754395, -5.126999855041504, -3.6902999877929688, -4.671299934387207, -4.671299934387207, -4.671299934387207, -4.671299934387207, -4.671299934387207, -4.671299934387207, -4.671299934387207, -4.671299934387207, -4.671299934387207, -4.671299934387207, -4.671299934387207, -4.671299934387207, -4.671299934387207, -4.671299934387207, -4.671299934387207, -4.671299934387207, -4.671299934387207, -4.671299934387207, -4.671299934387207, -4.671299934387207, -4.671299934387207, -4.671299934387207, -4.671299934387207, -3.418100118637085, -4.671299934387207, -4.671299934387207, -4.671199798583984, -4.671299934387207, -4.671199798583984, -3.028599977493286, -3.417799949645996]}};\n",
              "\n",
              "function LDAvis_load_lib(url, callback){\n",
              "  var s = document.createElement('script');\n",
              "  s.src = url;\n",
              "  s.async = true;\n",
              "  s.onreadystatechange = s.onload = callback;\n",
              "  s.onerror = function(){console.warn(\"failed to load library \" + url);};\n",
              "  document.getElementsByTagName(\"head\")[0].appendChild(s);\n",
              "}\n",
              "\n",
              "if(typeof(LDAvis) !== \"undefined\"){\n",
              "   // already loaded: just create the visualization\n",
              "   !function(LDAvis){\n",
              "       new LDAvis(\"#\" + \"ldavis_el771406686082957609692272757\", ldavis_el771406686082957609692272757_data);\n",
              "   }(LDAvis);\n",
              "}else if(typeof define === \"function\" && define.amd){\n",
              "   // require.js is available: use it to load d3/LDAvis\n",
              "   require.config({paths: {d3: \"https://cdnjs.cloudflare.com/ajax/libs/d3/3.5.5/d3.min\"}});\n",
              "   require([\"d3\"], function(d3){\n",
              "      window.d3 = d3;\n",
              "      LDAvis_load_lib(\"https://cdn.rawgit.com/bmabey/pyLDAvis/files/ldavis.v1.0.0.js\", function(){\n",
              "        new LDAvis(\"#\" + \"ldavis_el771406686082957609692272757\", ldavis_el771406686082957609692272757_data);\n",
              "      });\n",
              "    });\n",
              "}else{\n",
              "    // require.js not available: dynamically load d3 & LDAvis\n",
              "    LDAvis_load_lib(\"https://cdnjs.cloudflare.com/ajax/libs/d3/3.5.5/d3.min.js\", function(){\n",
              "         LDAvis_load_lib(\"https://cdn.rawgit.com/bmabey/pyLDAvis/files/ldavis.v1.0.0.js\", function(){\n",
              "                 new LDAvis(\"#\" + \"ldavis_el771406686082957609692272757\", ldavis_el771406686082957609692272757_data);\n",
              "            })\n",
              "         });\n",
              "}\n",
              "</script>"
            ],
            "text/plain": [
              "<IPython.core.display.HTML object>"
            ]
          },
          "metadata": {
            "tags": []
          },
          "execution_count": 347
        }
      ]
    }
  ]
}