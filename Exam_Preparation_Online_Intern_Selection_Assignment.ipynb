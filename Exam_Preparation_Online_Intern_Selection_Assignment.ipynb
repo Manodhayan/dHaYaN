{
  "nbformat": 4,
  "nbformat_minor": 0,
  "metadata": {
    "colab": {
      "name": "Exam Preparation Online Intern Selection Assignment.ipynb",
      "version": "0.3.2",
      "provenance": [],
      "include_colab_link": true
    }
  },
  "cells": [
    {
      "cell_type": "markdown",
      "metadata": {
        "id": "view-in-github",
        "colab_type": "text"
      },
      "source": [
        "[View in Colaboratory](https://colab.research.google.com/github/Manodhayan/dHaYaN/blob/master/Exam_Preparation_Online_Intern_Selection_Assignment.ipynb)"
      ]
    },
    {
      "metadata": {
        "id": "xgFA50HuUqZJ",
        "colab_type": "text"
      },
      "cell_type": "markdown",
      "source": [
        "# Exam Preparation Online Intern Selection Assignment"
      ]
    },
    {
      "metadata": {
        "id": "_aXWQC9KiCaa",
        "colab_type": "text"
      },
      "cell_type": "markdown",
      "source": [
        "### References\n"
      ]
    },
    {
      "metadata": {
        "id": "H6buAceGiMDg",
        "colab_type": "code",
        "colab": {}
      },
      "cell_type": "code",
      "source": [
        "# https://gist.github.com/jmcarp/7105045\n",
        "# https://github.com/shakkaist/Python/blob/master/Day2Session2/pdfconverter.py\n",
        "# https://www.geeksforgeeks.org/working-with-pdf-files-in-python/"
      ],
      "execution_count": 0,
      "outputs": []
    },
    {
      "metadata": {
        "id": "sINk4O-KRjcK",
        "colab_type": "text"
      },
      "cell_type": "markdown",
      "source": [
        "### Installing Required Packages"
      ]
    },
    {
      "metadata": {
        "id": "ZLQ5-WJQUpIL",
        "colab_type": "code",
        "colab": {}
      },
      "cell_type": "code",
      "source": [
        "!pip install pdf2text\n",
        "!pip install summa\n",
        "!pip install gensim\n",
        "!pip install pyldavis\n",
        "!pip install PyPDF2\n",
        "\n",
        "import nltk\n",
        "nltk.download('stopwords')\n",
        "nltk.download('wordnet')"
      ],
      "execution_count": 0,
      "outputs": []
    },
    {
      "metadata": {
        "id": "xfH2X4fWRurF",
        "colab_type": "text"
      },
      "cell_type": "markdown",
      "source": [
        "### Accessing Data from GDrive"
      ]
    },
    {
      "metadata": {
        "id": "Joj6ibTdV5LC",
        "colab_type": "code",
        "colab": {}
      },
      "cell_type": "code",
      "source": [
        "!pip install -U -q PyDrive\n",
        " \n",
        "from pydrive.auth import GoogleAuth\n",
        "from pydrive.drive import GoogleDrive\n",
        "from google.colab import auth\n",
        "from oauth2client.client import GoogleCredentials\n",
        " \n",
        "# 1. Authenticate and create the PyDrive client.\n",
        "auth.authenticate_user()\n",
        "gauth = GoogleAuth()\n",
        "gauth.credentials = GoogleCredentials.get_application_default()\n",
        "drive = GoogleDrive(gauth)\n",
        "file_list = drive.ListFile({'q': \"'1mLNJza6w4ywUAJpHhKzucHqzJbQgoNL9' in parents and trashed=false\"}).GetList()\n",
        "for file1 in file_list:\n",
        "  print('title: %s, id: %s' % (file1['title'], file1['id']))\n",
        "  \n",
        "pdf_data = drive.CreateFile({'id': '1Sg0Q1gtmXBrS9aYcKCm9R0GfvXCG0Nv_'})\n",
        "pdf_data.GetContentFile(\"notes.pdf\")"
      ],
      "execution_count": 0,
      "outputs": []
    },
    {
      "metadata": {
        "id": "QCBuByeyR4fK",
        "colab_type": "text"
      },
      "cell_type": "markdown",
      "source": [
        "## PDF to Text Conversion"
      ]
    },
    {
      "metadata": {
        "id": "FYvMmb8Uij2y",
        "colab_type": "code",
        "colab": {}
      },
      "cell_type": "code",
      "source": [
        "def pagewise_text_extraction(pdfFileObj):\n",
        "  pdfReader = PyPDF2.PdfFileReader(pdfFileObj)\n",
        "  \n",
        "  for page in range(pdfReader.numPages):\n",
        "    pageObj = pdfReader.getPage(page)\n",
        "    #print(page,pageObj.extractText())\n",
        "    pagewise_text.append(pageObj.extractText())"
      ],
      "execution_count": 0,
      "outputs": []
    },
    {
      "metadata": {
        "id": "yXtbhQsnWo-y",
        "colab_type": "code",
        "colab": {}
      },
      "cell_type": "code",
      "source": [
        "import PyPDF2\n",
        "import pandas as pd\n",
        "\n",
        "pagewise_text=[]\n",
        "pdfFileObj = open('notes.pdf', 'rb')\n",
        "pagewise_text_extraction(pdfFileObj)\n",
        "\n",
        "print(pdfReader.numPages)\n",
        " \n",
        "# creating a page object\n",
        "pageObj = pdfReader.getPage(2)\n",
        " \n",
        "# extracting text from page\n",
        "print(pageObj.extractText())\n",
        " \n",
        "# closing the pdf file object\n",
        "pdfFileObj.close()"
      ],
      "execution_count": 0,
      "outputs": []
    },
    {
      "metadata": {
        "id": "sIs9jpx48IhR",
        "colab_type": "text"
      },
      "cell_type": "markdown",
      "source": [
        "## Preprocessing"
      ]
    },
    {
      "metadata": {
        "id": "lR9TurjU8Uiy",
        "colab_type": "text"
      },
      "cell_type": "markdown",
      "source": [
        "### Cleaning Stage 1"
      ]
    },
    {
      "metadata": {
        "id": "9yTF2GMHw_GN",
        "colab_type": "code",
        "colab": {}
      },
      "cell_type": "code",
      "source": [
        "pagewise_textdata = pd.DataFrame(data=pagewise_text,columns=[\"Text\"])\n",
        "pagewise_textdata[\"Page_No\"]=\"\"\n",
        "pagenumber=1;\n",
        "# Removing Page Header,Footer and Page numbers\n",
        "template_words=['Java Basics','1996-2003 jGuru.com. All Rights Reserved.','-','1','2','3','4','5','6','7','8','9','10']\n",
        "for index,row in pagewise_textdata.iterrows():\n",
        "  pagewise_textdata.Page_No[index]=pagenumber\n",
        "  pagenumber=pagenumber+1\n",
        "  pagewise_textdata['Text']=pagewise_textdata['Text'].apply(lambda x: x.encode('ascii', 'ignore'))\n",
        "  for words in template_words:\n",
        "    pagewise_textdata['Text']=pagewise_textdata['Text'].replace(words,'',regex=True)\n",
        "\n",
        "#Neglecting last pages as it doesn't contain any useful information\n",
        "pagewise_textdata=pagewise_textdata[:-2]\n",
        "#pagewise_textdata"
      ],
      "execution_count": 0,
      "outputs": []
    },
    {
      "metadata": {
        "id": "C5YwBku58Z9Z",
        "colab_type": "text"
      },
      "cell_type": "markdown",
      "source": [
        "### Cleaning Stage 2"
      ]
    },
    {
      "metadata": {
        "id": "RimoabWjnqz0",
        "colab_type": "code",
        "colab": {
          "base_uri": "https://localhost:8080/",
          "height": 204
        },
        "outputId": "ed5e3b63-2847-45fe-9f89-53d238bcea68"
      },
      "cell_type": "code",
      "source": [
        "\n",
        "pagewise_textdata[\"Meaningfull_Text\"]=\"\"\n",
        "\n",
        "# Extracting meaningfull words\n",
        "def clean_text(text):\n",
        "        stopwords_set = set(stopwords.words(\"english\"))\n",
        "        filtered_words = [e.lower() for e in text.split() if len(e) >= 3]\n",
        "        stopwords_less_words = [word for word in filtered_words if not word in stopwords_set]\n",
        "        return ' '.join(stopwords_less_words)\n",
        "\n",
        "for index,row in pagewise_textdata.iterrows():\n",
        "  pagewise_textdata.Meaningfull_Text[index]=clean_text(pagewise_textdata.Text[index])\n",
        "\n",
        "pagewise_textdata.head()"
      ],
      "execution_count": 363,
      "outputs": [
        {
          "output_type": "execute_result",
          "data": {
            "text/html": [
              "<div>\n",
              "<style scoped>\n",
              "    .dataframe tbody tr th:only-of-type {\n",
              "        vertical-align: middle;\n",
              "    }\n",
              "\n",
              "    .dataframe tbody tr th {\n",
              "        vertical-align: top;\n",
              "    }\n",
              "\n",
              "    .dataframe thead th {\n",
              "        text-align: right;\n",
              "    }\n",
              "</style>\n",
              "<table border=\"1\" class=\"dataframe\">\n",
              "  <thead>\n",
              "    <tr style=\"text-align: right;\">\n",
              "      <th></th>\n",
              "      <th>Text</th>\n",
              "      <th>Page_No</th>\n",
              "      <th>Meaningfull_Text</th>\n",
              "      <th>Summary</th>\n",
              "    </tr>\n",
              "  </thead>\n",
              "  <tbody>\n",
              "    <tr>\n",
              "      <th>0</th>\n",
              "      <td>Topics in this section include:! What makes ...</td>\n",
              "      <td>1</td>\n",
              "      <td>topics section include:! makes java programs p...</td>\n",
              "      <td>makes java programs portable, secure, robust!\\...</td>\n",
              "    </tr>\n",
              "    <tr>\n",
              "      <th>1</th>\n",
              "      <td>are not portable.. The library. The Java cla...</td>\n",
              "      <td>2</td>\n",
              "      <td>portable.. library. java class library availab...</td>\n",
              "      <td>java class library available machine javarunti...</td>\n",
              "    </tr>\n",
              "    <tr>\n",
              "      <th>2</th>\n",
              "      <td>! Garbage collectionno bad addresses! Array ...</td>\n",
              "      <td>3</td>\n",
              "      <td>garbage collectionno bad addresses! array stri...</td>\n",
              "      <td>interfaces exceptionsjava program structurea f...</td>\n",
              "    </tr>\n",
              "    <tr>\n",
              "      <th>3</th>\n",
              "      <td>public class TrivialApplication {  // args[0...</td>\n",
              "      <td>5</td>\n",
              "      <td>public class trivialapplication args[0] first ...</td>\n",
              "      <td>class, effect,creates scoped symbol startingcl...</td>\n",
              "    </tr>\n",
              "    <tr>\n",
              "      <th>4</th>\n",
              "      <td>threads so they do not burden system resourc...</td>\n",
              "      <td>6</td>\n",
              "      <td>threads burden system resources unnecessarily....</td>\n",
              "      <td>therefore, forget call super.dispose() youover...</td>\n",
              "    </tr>\n",
              "  </tbody>\n",
              "</table>\n",
              "</div>"
            ],
            "text/plain": [
              "                                                Text Page_No  \\\n",
              "0    Topics in this section include:! What makes ...       1   \n",
              "1    are not portable.. The library. The Java cla...       2   \n",
              "2    ! Garbage collectionno bad addresses! Array ...       3   \n",
              "3    public class TrivialApplication {  // args[0...       5   \n",
              "4    threads so they do not burden system resourc...       6   \n",
              "\n",
              "                                    Meaningfull_Text  \\\n",
              "0  topics section include:! makes java programs p...   \n",
              "1  portable.. library. java class library availab...   \n",
              "2  garbage collectionno bad addresses! array stri...   \n",
              "3  public class trivialapplication args[0] first ...   \n",
              "4  threads burden system resources unnecessarily....   \n",
              "\n",
              "                                             Summary  \n",
              "0  makes java programs portable, secure, robust!\\...  \n",
              "1  java class library available machine javarunti...  \n",
              "2  interfaces exceptionsjava program structurea f...  \n",
              "3  class, effect,creates scoped symbol startingcl...  \n",
              "4  therefore, forget call super.dispose() youover...  "
            ]
          },
          "metadata": {
            "tags": []
          },
          "execution_count": 363
        }
      ]
    },
    {
      "metadata": {
        "id": "9PXSihus_JJb",
        "colab_type": "text"
      },
      "cell_type": "markdown",
      "source": [
        "## Text Summarization"
      ]
    },
    {
      "metadata": {
        "id": "RzGKsY889gm0",
        "colab_type": "code",
        "colab": {
          "base_uri": "https://localhost:8080/",
          "height": 204
        },
        "outputId": "50fc6926-6653-46f3-9825-487b69b93157"
      },
      "cell_type": "code",
      "source": [
        "from summa.summarizer import summarize\n",
        "pagewise_textdata[\"Summary\"]=\"\"\n",
        "\n",
        "# Create summaries for each page\n",
        "for index,row in pagewise_textdata.iterrows():\n",
        "  pagewise_textdata.Summary[index]=summarize(pagewise_textdata.Meaningfull_Text[index],ratio=0.3)\n",
        "  if pagewise_textdata.Summary[index]==\"\":\n",
        "    pagewise_textdata=pagewise_textdata.drop([index])\n",
        "\n",
        "pagewise_textdata.reset_index(inplace=True,drop=True)  \n",
        "pagewise_textdata.head()\n"
      ],
      "execution_count": 364,
      "outputs": [
        {
          "output_type": "execute_result",
          "data": {
            "text/html": [
              "<div>\n",
              "<style scoped>\n",
              "    .dataframe tbody tr th:only-of-type {\n",
              "        vertical-align: middle;\n",
              "    }\n",
              "\n",
              "    .dataframe tbody tr th {\n",
              "        vertical-align: top;\n",
              "    }\n",
              "\n",
              "    .dataframe thead th {\n",
              "        text-align: right;\n",
              "    }\n",
              "</style>\n",
              "<table border=\"1\" class=\"dataframe\">\n",
              "  <thead>\n",
              "    <tr style=\"text-align: right;\">\n",
              "      <th></th>\n",
              "      <th>Text</th>\n",
              "      <th>Page_No</th>\n",
              "      <th>Meaningfull_Text</th>\n",
              "      <th>Summary</th>\n",
              "    </tr>\n",
              "  </thead>\n",
              "  <tbody>\n",
              "    <tr>\n",
              "      <th>0</th>\n",
              "      <td>Topics in this section include:! What makes ...</td>\n",
              "      <td>1</td>\n",
              "      <td>topics section include:! makes java programs p...</td>\n",
              "      <td>makes java programs portable, secure, robust!\\...</td>\n",
              "    </tr>\n",
              "    <tr>\n",
              "      <th>1</th>\n",
              "      <td>are not portable.. The library. The Java cla...</td>\n",
              "      <td>2</td>\n",
              "      <td>portable.. library. java class library availab...</td>\n",
              "      <td>java class library available machine javarunti...</td>\n",
              "    </tr>\n",
              "    <tr>\n",
              "      <th>2</th>\n",
              "      <td>! Garbage collectionno bad addresses! Array ...</td>\n",
              "      <td>3</td>\n",
              "      <td>garbage collectionno bad addresses! array stri...</td>\n",
              "      <td>interfaces exceptionsjava program structurea f...</td>\n",
              "    </tr>\n",
              "    <tr>\n",
              "      <th>3</th>\n",
              "      <td>public class TrivialApplication {  // args[0...</td>\n",
              "      <td>5</td>\n",
              "      <td>public class trivialapplication args[0] first ...</td>\n",
              "      <td>class, effect,creates scoped symbol startingcl...</td>\n",
              "    </tr>\n",
              "    <tr>\n",
              "      <th>4</th>\n",
              "      <td>threads so they do not burden system resourc...</td>\n",
              "      <td>6</td>\n",
              "      <td>threads burden system resources unnecessarily....</td>\n",
              "      <td>therefore, forget call super.dispose() youover...</td>\n",
              "    </tr>\n",
              "  </tbody>\n",
              "</table>\n",
              "</div>"
            ],
            "text/plain": [
              "                                                Text Page_No  \\\n",
              "0    Topics in this section include:! What makes ...       1   \n",
              "1    are not portable.. The library. The Java cla...       2   \n",
              "2    ! Garbage collectionno bad addresses! Array ...       3   \n",
              "3    public class TrivialApplication {  // args[0...       5   \n",
              "4    threads so they do not burden system resourc...       6   \n",
              "\n",
              "                                    Meaningfull_Text  \\\n",
              "0  topics section include:! makes java programs p...   \n",
              "1  portable.. library. java class library availab...   \n",
              "2  garbage collectionno bad addresses! array stri...   \n",
              "3  public class trivialapplication args[0] first ...   \n",
              "4  threads burden system resources unnecessarily....   \n",
              "\n",
              "                                             Summary  \n",
              "0  makes java programs portable, secure, robust!\\...  \n",
              "1  java class library available machine javarunti...  \n",
              "2  interfaces exceptionsjava program structurea f...  \n",
              "3  class, effect,creates scoped symbol startingcl...  \n",
              "4  therefore, forget call super.dispose() youover...  "
            ]
          },
          "metadata": {
            "tags": []
          },
          "execution_count": 364
        }
      ]
    },
    {
      "metadata": {
        "id": "yuDkHHovRC9z",
        "colab_type": "text"
      },
      "cell_type": "markdown",
      "source": [
        "# Topic Modeling/ Keyword Extraction"
      ]
    },
    {
      "metadata": {
        "id": "pHV6nOaYs356",
        "colab_type": "text"
      },
      "cell_type": "markdown",
      "source": [
        "###Cleaning Document"
      ]
    },
    {
      "metadata": {
        "id": "tNZ5bl4btbnC",
        "colab_type": "code",
        "colab": {}
      },
      "cell_type": "code",
      "source": [
        "from nltk.corpus import stopwords \n",
        "from nltk.stem.wordnet import WordNetLemmatizer\n",
        "import string\n",
        "stop = set(stopwords.words('english'))\n",
        "exclude = set(string.punctuation) \n",
        "lemma = WordNetLemmatizer()\n",
        "def clean(doc):\n",
        "    stop_free = \" \".join([i for i in doc.lower().split() if i not in stop])\n",
        "    punc_free = ''.join(ch for ch in stop_free if ch not in exclude)\n",
        "    normalized = \" \".join(lemma.lemmatize(word) for word in punc_free.split())\n",
        "    return normalized\n",
        "\n",
        "doc_clean = [clean(doc).split() for doc in pagewise_textdata.Summary]"
      ],
      "execution_count": 0,
      "outputs": []
    },
    {
      "metadata": {
        "id": "0PJXMeSGs-q3",
        "colab_type": "text"
      },
      "cell_type": "markdown",
      "source": [
        "###Prepare the Document to model"
      ]
    },
    {
      "metadata": {
        "id": "PAFsxY2Nt8if",
        "colab_type": "code",
        "colab": {}
      },
      "cell_type": "code",
      "source": [
        "# Importing Gensim\n",
        "import gensim\n",
        "from gensim import corpora\n",
        "# Creating the term dictionary of our courpus, where every unique term is assigned an index. \n",
        "dictionary = corpora.Dictionary(doc_clean)\n",
        "\n",
        "# Converting list of documents (corpus) into Document Term Matrix using dictionary prepared above.\n",
        "doc_term_matrix = [dictionary.doc2bow(doc) for doc in doc_clean]\n",
        "corpus=doc_term_matrix\n",
        "import pickle\n",
        "pickle.dump(corpus, open('corpus.pkl', 'wb'))\n",
        "dictionary.save('dictionary.gensim')"
      ],
      "execution_count": 0,
      "outputs": []
    },
    {
      "metadata": {
        "id": "s6SINvKZtFu8",
        "colab_type": "text"
      },
      "cell_type": "markdown",
      "source": [
        "###Model the Document"
      ]
    },
    {
      "metadata": {
        "id": "g37dc24luAqU",
        "colab_type": "code",
        "colab": {}
      },
      "cell_type": "code",
      "source": [
        "# Creating the object for LDA model using gensim library\n",
        "Lda = gensim.models.ldamodel.LdaModel\n",
        "\n",
        "# Running and Trainign LDA model on the document term matrix.\n",
        "ldamodel = Lda(doc_term_matrix, num_topics=5, id2word = dictionary, passes=50)\n",
        "ldamodel.save('model5.gensim')"
      ],
      "execution_count": 0,
      "outputs": []
    },
    {
      "metadata": {
        "id": "4jy8KZj9tJkP",
        "colab_type": "text"
      },
      "cell_type": "markdown",
      "source": [
        "###Results"
      ]
    },
    {
      "metadata": {
        "id": "zPDvBKItxfXc",
        "colab_type": "code",
        "colab": {
          "base_uri": "https://localhost:8080/",
          "height": 54
        },
        "outputId": "79570f1a-dd7f-4168-d8c2-2b13ecc1a0c7"
      },
      "cell_type": "code",
      "source": [
        "print(ldamodel.print_topics(num_topics=5, num_words=3))"
      ],
      "execution_count": 369,
      "outputs": [
        {
          "output_type": "stream",
          "text": [
            "[(0, u'0.030*\"parameter\" + 0.023*\"tag\" + 0.016*\"definition\"'), (1, u'0.056*\"java\" + 0.031*\"return\" + 0.026*\"program\"'), (2, u'0.027*\"new\" + 0.021*\"java\" + 0.021*\"garbage\"'), (3, u'0.053*\"applet\" + 0.033*\"method\" + 0.021*\"browser\"'), (4, u'0.039*\"comment\" + 0.028*\"string\" + 0.023*\"c\"')]\n"
          ],
          "name": "stdout"
        }
      ]
    },
    {
      "metadata": {
        "id": "ld4OuPsbtNGD",
        "colab_type": "text"
      },
      "cell_type": "markdown",
      "source": [
        "###Visualisation"
      ]
    },
    {
      "metadata": {
        "id": "ULQCIEmZxrMx",
        "colab_type": "code",
        "colab": {
          "base_uri": "https://localhost:8080/",
          "height": 861
        },
        "outputId": "eba0c3c2-8a95-4983-c970-292d9b1921fc"
      },
      "cell_type": "code",
      "source": [
        "dictionary = gensim.corpora.Dictionary.load('dictionary.gensim')\n",
        "corpus = pickle.load(open('corpus.pkl', 'rb'))\n",
        "lda = gensim.models.ldamodel.LdaModel.load('model5.gensim')\n",
        "\n",
        "import pyLDAvis.gensim\n",
        "lda_display = pyLDAvis.gensim.prepare(ldamodel, corpus, dictionary, sort_topics=True)\n",
        "pyLDAvis.display(lda_display)"
      ],
      "execution_count": 370,
      "outputs": [
        {
          "output_type": "execute_result",
          "data": {
            "text/html": [
              "\n",
              "<link rel=\"stylesheet\" type=\"text/css\" href=\"https://cdn.rawgit.com/bmabey/pyLDAvis/files/ldavis.v1.0.0.css\">\n",
              "\n",
              "\n",
              "<div id=\"ldavis_el771406688328256801495126919\"></div>\n",
              "<script type=\"text/javascript\">\n",
              "\n",
              "var ldavis_el771406688328256801495126919_data = {\"plot.opts\": {\"xlab\": \"PC1\", \"ylab\": \"PC2\"}, \"topic.order\": [2, 4, 5, 3, 1], \"token.table\": {\"Topic\": [2, 4, 4, 4, 4, 3, 3, 2, 1, 2, 5, 2, 2, 5, 1, 2, 3, 2, 4, 2, 4, 4, 2, 1, 2, 1, 2, 1, 2, 1, 1, 1, 3, 4, 1, 2, 1, 2, 5, 4, 1, 3, 1, 2, 1, 2, 1, 3, 5, 5, 1, 4, 4, 4, 1, 3, 3, 3, 3, 5, 2, 4, 4, 1, 3, 5, 3, 3, 2, 3, 3, 1, 3, 5, 5, 4, 4, 5, 1, 5, 2, 2, 2, 3, 1, 3, 4, 3, 4, 1, 1, 2, 1, 5, 3, 1, 2, 4, 1, 2, 2, 4, 1, 5, 2, 5, 5, 4, 4, 4, 3, 4, 5, 5, 5, 2, 5, 4, 2, 4, 4, 5, 4, 2, 3, 2, 2, 1, 3, 4, 3, 3, 5, 4, 2, 5, 2, 1, 2, 3, 4, 2, 2, 2, 2, 3, 4, 4, 1, 2, 3, 3, 3, 1, 2, 5, 5, 5, 1, 1, 2, 1, 5, 3, 3, 4, 4, 1, 2, 3, 5, 4, 5, 5, 3, 1, 3, 4, 3, 1, 4, 1, 2, 3, 4, 4, 3, 5, 3, 3, 3, 4, 1, 3, 4, 5, 5, 2, 1, 5, 5, 1, 2, 5, 1, 3, 4, 1, 1, 2, 1, 2, 3, 3, 1, 2, 3, 2, 4, 2, 4, 3, 2, 1, 1, 1, 2, 1, 3, 1, 4, 5, 1, 3, 4, 2, 1, 2, 3, 3, 1, 2, 3, 2, 3, 1, 2, 4, 5, 4, 1, 3, 1, 2, 1, 3, 2, 4, 3, 3, 2, 5, 5, 3, 1, 1, 2, 3, 2, 1, 3, 2, 3, 5, 3, 1, 2, 4, 4, 1, 2, 3, 5, 5, 5, 4, 2, 2, 4, 2, 2, 5, 5, 5, 2, 2, 1, 2, 2], \"Freq\": [0.7912240624427795, 0.9761455059051514, 0.931842029094696, 0.9318419694900513, 0.9318419694900513, 0.8703898191452026, 0.8703898191452026, 0.7912240028381348, 0.16468097269535065, 0.7410644292831421, 0.08234048634767532, 0.7912240028381348, 0.5919206142425537, 0.5919206142425537, 0.6902669072151184, 0.7912240028381348, 0.8703898787498474, 0.5708761215209961, 0.5708761215209961, 0.7912240028381348, 0.931842029094696, 0.931842029094696, 0.7912240028381348, 0.9404186606407166, 0.7912238836288452, 0.6902667880058289, 0.7912240028381348, 0.3623441755771637, 0.7246883511543274, 0.6902667880058289, 0.6902666091918945, 0.434907466173172, 0.2899383008480072, 0.1449691504240036, 0.4915026128292084, 0.4915026128292084, 0.29483479261398315, 0.5896695852279663, 0.9892555475234985, 0.9318419694900513, 0.5209379196166992, 0.5209379196166992, 0.7129327654838562, 0.3564663827419281, 0.690079391002655, 0.3450396955013275, 0.722538411617279, 0.12042306363582611, 0.12042306363582611, 0.6961635947227478, 0.9404186606407166, 0.6406112909317017, 0.6406113505363464, 0.931842029094696, 0.188656285405159, 0.754625141620636, 0.8703898191452026, 0.8703898191452026, 0.8703898191452026, 0.9892555475234985, 0.7912240028381348, 0.9318419694900513, 0.931842029094696, 0.5209381580352783, 0.5209381580352783, 0.9892555475234985, 0.5839267373085022, 0.8703898787498474, 0.7912240028381348, 0.583926796913147, 0.8703898191452026, 0.5647335052490234, 0.2823667526245117, 0.2823667526245117, 0.9892555475234985, 0.9318419694900513, 0.9318419694900513, 0.9892555475234985, 0.45309579372406006, 0.45309579372406006, 0.7912240028381348, 0.7912240028381348, 0.5148131847381592, 0.5839267373085022, 0.5209379196166992, 0.5209379196166992, 0.6406112909317017, 0.8703898787498474, 0.931842029094696, 0.6902667880058289, 0.940419614315033, 0.7912240028381348, 0.6018620729446411, 0.30093103647232056, 0.8703898787498474, 0.9404187798500061, 0.5148131847381592, 0.6406113505363464, 0.6902666687965393, 0.7912240028381348, 0.44651615619659424, 0.44651615619659424, 0.6902666091918945, 0.9892559051513672, 0.7912238836288452, 0.9892559051513672, 0.9892557859420776, 0.9318419694900513, 0.9318419694900513, 0.9761455059051514, 0.8703898191452026, 0.9318419694900513, 0.9892560243606567, 0.9892557859420776, 0.9892560243606567, 0.7912240028381348, 0.696163535118103, 0.6406113505363464, 0.7912240028381348, 0.931842029094696, 0.9318419694900513, 0.9892559051513672, 0.9318419694900513, 0.5471923351287842, 0.5471923351287842, 0.5148131847381592, 0.7912240028381348, 0.3999946713447571, 0.19999733567237854, 0.19999733567237854, 0.8703898787498474, 0.8703898191452026, 0.9892559051513672, 0.9318419694900513, 0.7912240028381348, 0.9892559051513672, 0.7912240028381348, 0.77139812707901, 0.14463713765144348, 0.048212382942438126, 0.09642476588487625, 0.7912240028381348, 0.7912240028381348, 0.7912240624427795, 0.7912240028381348, 0.8703898191452026, 0.931842029094696, 0.9318418502807617, 0.7040796875953674, 0.17601992189884186, 0.17601992189884186, 0.8703898191452026, 0.5839267373085022, 0.9404184818267822, 0.7912240028381348, 0.9892557859420776, 0.9892560243606567, 0.9892559051513672, 0.9404184818267822, 0.4915018677711487, 0.4915018677711487, 0.94041907787323, 0.9892559051513672, 0.8703898787498474, 0.4544622004032135, 0.4544622004032135, 0.9318419694900513, 0.21956399083137512, 0.658691942691803, 0.10978199541568756, 0.10978199541568756, 0.931842029094696, 0.9892559051513672, 0.6961634755134583, 0.8703898191452026, 0.3695421516895294, 0.1847710758447647, 0.3695421516895294, 0.8703898191452026, 0.5907918214797974, 0.2953959107398987, 0.4409792125225067, 0.22048960626125336, 0.22048960626125336, 0.22048960626125336, 0.931842029094696, 0.8703898787498474, 0.9892555475234985, 0.8703898191452026, 0.8703898787498474, 0.8703898191452026, 0.9318418502807617, 0.33658358454704285, 0.33658358454704285, 0.33658358454704285, 0.9892557859420776, 0.9892557859420776, 0.7912240028381348, 0.3270098865032196, 0.6540197730064392, 0.9892560243606567, 0.2948348820209503, 0.5896697640419006, 0.9892555475234985, 0.9404184818267822, 0.6109600067138672, 0.6109600067138672, 0.6902669072151184, 0.4915027320384979, 0.4915027320384979, 0.5936577916145325, 0.29682889580726624, 0.29682889580726624, 0.8703898191452026, 0.7987090349197388, 0.11410129070281982, 0.11410129070281982, 0.9091934561729431, 0.9318419694900513, 0.34268754720687866, 0.34268754720687866, 0.8703898191452026, 0.7912238836288452, 0.9930293560028076, 0.9404187798500061, 0.4915018081665039, 0.4915018081665039, 0.9404184818267822, 0.5839267373085022, 0.9404187798500061, 0.6672323346138, 0.6672323346138, 0.5778529644012451, 0.28892648220062256, 0.9318419694900513, 0.5148131251335144, 0.20609501004219055, 0.20609501004219055, 0.618285059928894, 0.8703898787498474, 0.49150705337524414, 0.49150705337524414, 0.583926796913147, 0.7912240028381348, 0.8703898191452026, 0.5592800974845886, 0.2796400487422943, 0.6406112313270569, 0.5370491743087769, 0.931842029094696, 0.5209373831748962, 0.5209373831748962, 0.4915025532245636, 0.4915025532245636, 0.9404186010360718, 0.8703898191452026, 0.514813244342804, 0.931842029094696, 0.8703898787498474, 0.8703898787498474, 0.5919130444526672, 0.5919130444526672, 0.9892555475234985, 0.8703898191452026, 0.9404184818267822, 0.4941277503967285, 0.24706387519836426, 0.24706387519836426, 0.7912238836288452, 0.5238953828811646, 0.5238953828811646, 0.7912238836288452, 0.8703898787498474, 0.9892559051513672, 0.8703898787498474, 0.39645251631736755, 0.39645251631736755, 0.39645251631736755, 0.9318419694900513, 0.483127236366272, 0.241563618183136, 0.241563618183136, 0.9892560243606567, 0.9892559051513672, 0.9892557859420776, 0.931842029094696, 0.9091934561729431, 0.5708761215209961, 0.5708761215209961, 0.7912240028381348, 0.7912240028381348, 0.9892557859420776, 0.9892557859420776, 0.9892557859420776, 0.7912238836288452, 0.7912240624427795, 0.49150198698043823, 0.49150198698043823, 0.7912240028381348], \"Term\": [\"00\", \"000\", \"ack\", \"allocate\", \"allocates\", \"also\", \"always\", \"animation\", \"applet\", \"applet\", \"applet\", \"appletthe\", \"appletviewer\", \"appletviewer\", \"application\", \"appropriate\", \"array\", \"assigned\", \"assigned\", \"attemptingto\", \"automatic\", \"availablefor\", \"awt\", \"b\", \"behaviorthe\", \"bfoobutton\", \"bring\", \"browser\", \"browser\", \"button\", \"byte\", \"c\", \"c\", \"c\", \"call\", \"call\", \"called\", \"called\", \"calledequals\", \"callocmalloc\", \"cannot\", \"cannot\", \"cc\", \"cc\", \"class\", \"class\", \"code\", \"code\", \"code\", \"codeappletnameclass\", \"codeint\", \"codevoid\", \"collection\", \"collector\", \"comment\", \"comment\", \"commentary\", \"commenting\", \"commentsthis\", \"comparison\", \"complete\", \"consequence\", \"consider\", \"contain\", \"contain\", \"convention\", \"convert\", \"converted\", \"create\", \"cstyle\", \"cstylecomments\", \"data\", \"data\", \"data\", \"de\", \"deallocatedto\", \"deallocating\", \"define\", \"definition\", \"definition\", \"definitionsimport\", \"destroy\", \"display\", \"document\", \"easily\", \"easily\", \"effect\", \"egabclength\", \"either\", \"else\", \"equivalent\", \"etc\", \"example\", \"example\", \"examplestring\", \"executed\", \"extends\", \"f\", \"file\", \"fill\", \"following\", \"following\", \"fooint\", \"forexample\", \"forget\", \"formapplet\", \"formparam\", \"functionthat\", \"functionwould\", \"garbage\", \"generatedocumentation\", \"heap\", \"height\", \"height00param\", \"heighthparametersappletwhere\", \"hello\", \"html\", \"i\", \"ignore\", \"ill\", \"illustrate\", \"img\", \"in\", \"include\", \"include\", \"init\", \"initialize\", \"int\", \"int\", \"int\", \"integerparseintarray\", \"interesting\", \"interfacethe\", \"invalid\", \"invoke\", \"isapplet\", \"isimport\", \"java\", \"java\", \"java\", \"java\", \"javaappletapplet\", \"javaappletappletimport\", \"javaawtgraphicspublic\", \"javaawtpublic\", \"javadoc\", \"javaobject\", \"lack\", \"language\", \"language\", \"language\", \"lead\", \"length\", \"library\", \"life\", \"likehtmlapplet\", \"list\", \"look\", \"machine\", \"main\", \"main\", \"make\", \"mandatory\", \"may\", \"memory\", \"memory\", \"memoryas\", \"method\", \"method\", \"method\", \"method\", \"methodcauses\", \"namen\", \"namep\", \"nested\", \"new\", \"new\", \"new\", \"normalcode\", \"null\", \"null\", \"object\", \"object\", \"object\", \"object\", \"objectone\", \"objectsin\", \"objectto\", \"observation\", \"obtained\", \"ofcodethe\", \"old\", \"operator\", \"operator\", \"operator\", \"optional\", \"output\", \"paintgraphics\", \"parameter\", \"parameter\", \"parametersthe\", \"passed\", \"passed\", \"perform\", \"platform\", \"pointer\", \"pointer\", \"portable\", \"predefined\", \"predefined\", \"primitive\", \"primitive\", \"primitive\", \"processed\", \"program\", \"program\", \"program\", \"public\", \"refer\", \"reference\", \"reference\", \"reserve\", \"resource\", \"return\", \"robust\", \"run\", \"run\", \"runtime\", \"section\", \"secure\", \"similar\", \"similar\", \"source\", \"source\", \"stale\", \"start\", \"string\", \"string\", \"string\", \"stringvalueofto\", \"structure\", \"structure\", \"style\", \"superdispose\", \"surroundingit\", \"system\", \"system\", \"t\", \"tag\", \"task\", \"the\", \"the\", \"therefore\", \"therefore\", \"thesame\", \"these\", \"thread\", \"time\", \"toconvert\", \"tostring\", \"trivialapplet\", \"trivialapplet\", \"true\", \"try\", \"two\", \"type\", \"type\", \"type\", \"us\", \"use\", \"use\", \"usea\", \"useint\", \"userdefined\", \"usestring\", \"using\", \"using\", \"using\", \"validthere\", \"value\", \"value\", \"value\", \"valueparam\", \"valuetestappletwhere\", \"valuevan\", \"via\", \"void\", \"way\", \"way\", \"web\", \"wide\", \"width\", \"width00\", \"widthw\", \"windowimport\", \"world\", \"www\", \"www\", \"yourbrowser\"]}, \"mdsDat\": {\"y\": [-0.11908629349279136, -0.05967147315129109, 0.06511264262604728, 0.06621535837794687, 0.047429765640088176], \"cluster\": [1, 1, 1, 1, 1], \"Freq\": [40.47272491455078, 24.8222713470459, 15.178764343261719, 10.927628517150879, 8.598607063293457], \"topics\": [1, 2, 3, 4, 5], \"x\": [0.09736520220239762, -0.13998007117624725, 0.06134733003050285, 0.007241371080993633, -0.025973832137646546]}, \"R\": 30, \"lambda.step\": 0.01, \"tinfo\": {\"Category\": [\"Default\", \"Default\", \"Default\", \"Default\", \"Default\", \"Default\", \"Default\", \"Default\", \"Default\", \"Default\", \"Default\", \"Default\", \"Default\", \"Default\", \"Default\", \"Default\", \"Default\", \"Default\", \"Default\", \"Default\", \"Default\", \"Default\", \"Default\", \"Default\", \"Default\", \"Default\", \"Default\", \"Default\", \"Default\", \"Default\", \"Topic1\", \"Topic1\", \"Topic1\", \"Topic1\", \"Topic1\", \"Topic1\", \"Topic1\", \"Topic1\", \"Topic1\", \"Topic1\", \"Topic1\", \"Topic1\", \"Topic1\", \"Topic1\", \"Topic1\", \"Topic1\", \"Topic1\", \"Topic1\", \"Topic1\", \"Topic1\", \"Topic1\", \"Topic1\", \"Topic1\", \"Topic1\", \"Topic1\", \"Topic1\", \"Topic1\", \"Topic1\", \"Topic1\", \"Topic1\", \"Topic1\", \"Topic1\", \"Topic1\", \"Topic1\", \"Topic1\", \"Topic1\", \"Topic1\", \"Topic1\", \"Topic1\", \"Topic1\", \"Topic1\", \"Topic2\", \"Topic2\", \"Topic2\", \"Topic2\", \"Topic2\", \"Topic2\", \"Topic2\", \"Topic2\", \"Topic2\", \"Topic2\", \"Topic2\", \"Topic2\", \"Topic2\", \"Topic2\", \"Topic2\", \"Topic2\", \"Topic2\", \"Topic2\", \"Topic2\", \"Topic2\", \"Topic2\", \"Topic2\", \"Topic2\", \"Topic2\", \"Topic2\", \"Topic2\", \"Topic2\", \"Topic2\", \"Topic2\", \"Topic2\", \"Topic2\", \"Topic2\", \"Topic2\", \"Topic2\", \"Topic2\", \"Topic2\", \"Topic2\", \"Topic2\", \"Topic2\", \"Topic2\", \"Topic2\", \"Topic2\", \"Topic2\", \"Topic2\", \"Topic2\", \"Topic2\", \"Topic2\", \"Topic2\", \"Topic2\", \"Topic2\", \"Topic2\", \"Topic2\", \"Topic2\", \"Topic2\", \"Topic2\", \"Topic2\", \"Topic2\", \"Topic2\", \"Topic2\", \"Topic2\", \"Topic3\", \"Topic3\", \"Topic3\", \"Topic3\", \"Topic3\", \"Topic3\", \"Topic3\", \"Topic3\", \"Topic3\", \"Topic3\", \"Topic3\", \"Topic3\", \"Topic3\", \"Topic3\", \"Topic3\", \"Topic3\", \"Topic3\", \"Topic3\", \"Topic3\", \"Topic3\", \"Topic3\", \"Topic3\", \"Topic3\", \"Topic3\", \"Topic3\", \"Topic3\", \"Topic3\", \"Topic3\", \"Topic3\", \"Topic3\", \"Topic3\", \"Topic3\", \"Topic3\", \"Topic3\", \"Topic3\", \"Topic3\", \"Topic3\", \"Topic3\", \"Topic3\", \"Topic3\", \"Topic3\", \"Topic3\", \"Topic3\", \"Topic3\", \"Topic3\", \"Topic3\", \"Topic3\", \"Topic3\", \"Topic3\", \"Topic3\", \"Topic3\", \"Topic3\", \"Topic4\", \"Topic4\", \"Topic4\", \"Topic4\", \"Topic4\", \"Topic4\", \"Topic4\", \"Topic4\", \"Topic4\", \"Topic4\", \"Topic4\", \"Topic4\", \"Topic4\", \"Topic4\", \"Topic4\", \"Topic4\", \"Topic4\", \"Topic4\", \"Topic4\", \"Topic4\", \"Topic4\", \"Topic4\", \"Topic4\", \"Topic4\", \"Topic4\", \"Topic4\", \"Topic4\", \"Topic4\", \"Topic4\", \"Topic4\", \"Topic4\", \"Topic4\", \"Topic4\", \"Topic4\", \"Topic4\", \"Topic4\", \"Topic4\", \"Topic4\", \"Topic4\", \"Topic4\", \"Topic4\", \"Topic4\", \"Topic4\", \"Topic4\", \"Topic4\", \"Topic4\", \"Topic4\", \"Topic4\", \"Topic4\", \"Topic4\", \"Topic4\", \"Topic4\", \"Topic4\", \"Topic4\", \"Topic5\", \"Topic5\", \"Topic5\", \"Topic5\", \"Topic5\", \"Topic5\", \"Topic5\", \"Topic5\", \"Topic5\", \"Topic5\", \"Topic5\", \"Topic5\", \"Topic5\", \"Topic5\", \"Topic5\", \"Topic5\", \"Topic5\", \"Topic5\", \"Topic5\", \"Topic5\", \"Topic5\", \"Topic5\", \"Topic5\", \"Topic5\", \"Topic5\", \"Topic5\", \"Topic5\", \"Topic5\", \"Topic5\", \"Topic5\", \"Topic5\", \"Topic5\", \"Topic5\", \"Topic5\", \"Topic5\", \"Topic5\", \"Topic5\", \"Topic5\", \"Topic5\", \"Topic5\", \"Topic5\"], \"Term\": [\"applet\", \"comment\", \"parameter\", \"return\", \"new\", \"string\", \"c\", \"method\", \"tag\", \"java\", \"000\", \"garbage\", \"data\", \"code\", \"definition\", \"use\", \"int\", \"reference\", \"void\", \"public\", \"browser\", \"codeappletnameclass\", \"namep\", \"html\", \"following\", \"collection\", \"f\", \"codevoid\", \"effect\", \"i\", \"return\", \"bfoobutton\", \"button\", \"else\", \"fooint\", \"byte\", \"file\", \"portable\", \"application\", \"program\", \"platform\", \"runtime\", \"machine\", \"library\", \"two\", \"thesame\", \"b\", \"codeint\", \"executed\", \"secure\", \"robust\", \"make\", \"equivalent\", \"code\", \"java\", \"example\", \"null\", \"source\", \"language\", \"system\", \"class\", \"value\", \"c\", \"int\", \"new\", \"applet\", \"primitive\", \"cc\", \"type\", \"data\", \"object\", \"void\", \"public\", \"init\", \"display\", \"thread\", \"extends\", \"start\", \"applet\", \"fill\", \"initialize\", \"world\", \"awt\", \"superdispose\", \"paintgraphics\", \"isimport\", \"00\", \"complete\", \"destroy\", \"web\", \"create\", \"javaawtgraphicspublic\", \"javaappletappletimport\", \"life\", \"yourbrowser\", \"javaawtpublic\", \"appletthe\", \"etc\", \"usea\", \"windowimport\", \"invoke\", \"browser\", \"passed\", \"called\", \"attemptingto\", \"method\", \"resource\", \"us\", \"behaviorthe\", \"forget\", \"appropriate\", \"bring\", \"hello\", \"definitionsimport\", \"javaappletapplet\", \"reference\", \"class\", \"animation\", \"wide\", \"ignore\", \"type\", \"object\", \"java\", \"structure\", \"include\", \"predefined\", \"call\", \"therefore\", \"www\", \"run\", \"main\", \"comment\", \"convert\", \"length\", \"style\", \"cstyle\", \"section\", \"document\", \"string\", \"these\", \"nested\", \"also\", \"observation\", \"commentary\", \"normalcode\", \"processed\", \"lead\", \"commenting\", \"ofcodethe\", \"commentsthis\", \"always\", \"generatedocumentation\", \"try\", \"reserve\", \"surroundingit\", \"cstylecomments\", \"interesting\", \"javadoc\", \"egabclength\", \"tostring\", \"useint\", \"usestring\", \"stringvalueofto\", \"toconvert\", \"converted\", \"obtained\", \"memory\", \"may\", \"array\", \"use\", \"integerparseintarray\", \"examplestring\", \"c\", \"operator\", \"objectsin\", \"int\", \"code\", \"method\", \"contain\", \"cannot\", \"easily\", \"the\", \"primitive\", \"garbage\", \"000\", \"f\", \"collection\", \"effect\", \"codevoid\", \"i\", \"t\", \"methodcauses\", \"collector\", \"task\", \"automatic\", \"javaobject\", \"ill\", \"consider\", \"objectone\", \"time\", \"either\", \"ack\", \"via\", \"availablefor\", \"functionwould\", \"deallocatedto\", \"allocate\", \"functionthat\", \"validthere\", \"callocmalloc\", \"illustrate\", \"allocates\", \"refer\", \"consequence\", \"invalid\", \"stale\", \"memoryas\", \"old\", \"heap\", \"lack\", \"in\", \"deallocating\", \"following\", \"new\", \"reference\", \"int\", \"java\", \"c\", \"using\", \"operator\", \"object\", \"way\", \"assigned\", \"pointer\", \"memory\", \"null\", \"similar\", \"tag\", \"codeappletnameclass\", \"html\", \"namep\", \"parameter\", \"valueparam\", \"list\", \"height\", \"formapplet\", \"img\", \"forexample\", \"isapplet\", \"valuetestappletwhere\", \"optional\", \"heighthparametersappletwhere\", \"userdefined\", \"mandatory\", \"parametersthe\", \"interfacethe\", \"look\", \"namen\", \"widthw\", \"output\", \"valuevan\", \"formparam\", \"width00\", \"width\", \"height00param\", \"likehtmlapplet\", \"perform\", \"de\", \"convention\", \"calledequals\", \"define\", \"comparison\", \"true\", \"objectto\", \"definition\", \"data\", \"appletviewer\", \"trivialapplet\"], \"loglift\": [30.0, 29.0, 28.0, 27.0, 26.0, 25.0, 24.0, 23.0, 22.0, 21.0, 20.0, 19.0, 18.0, 17.0, 16.0, 15.0, 14.0, 13.0, 12.0, 11.0, 10.0, 9.0, 8.0, 7.0, 6.0, 5.0, 4.0, 3.0, 2.0, 1.0, 0.8557999730110168, 0.743399977684021, 0.743399977684021, 0.743399977684021, 0.743399977684021, 0.743399977684021, 0.743399977684021, 0.743399977684021, 0.743399977684021, 0.692799985408783, 0.6779999732971191, 0.6779999732971191, 0.6779999732971191, 0.6779999732971191, 0.6779999732971191, 0.6779999732971191, 0.6779999732971191, 0.6779999732971191, 0.6779999732971191, 0.6779999732971191, 0.6779999732971191, 0.6779999732971191, 0.6779999732971191, 0.631600022315979, 0.6177999973297119, 0.6064000129699707, 0.5878000259399414, 0.5656999945640564, 0.5558000206947327, 0.5329999923706055, 0.4555000066757202, 0.38679999113082886, 0.147599995136261, 0.19740000367164612, 0.11829999834299088, -0.6902999877929688, 0.21809999644756317, 0.4011000096797943, 0.03449999913573265, 0.1679999977350235, -0.07930000126361847, 1.246999979019165, 1.246999979019165, 1.1302000284194946, 1.1302000284194946, 1.1302000284194946, 1.1302000284194946, 1.1302000284194946, 1.0892000198364258, 0.9538000226020813, 0.9538000226020813, 0.9538000226020813, 0.9538000226020813, 0.9538000226020813, 0.9538000226020813, 0.9538000226020813, 0.9538000226020813, 0.9538000226020813, 0.9538000226020813, 0.9538000226020813, 0.9538000226020813, 0.9538000226020813, 0.9538000226020813, 0.9538000226020813, 0.9538000226020813, 0.9538000226020813, 0.9538000226020813, 0.9538000226020813, 0.9538000226020813, 0.9538000226020813, 0.9538000226020813, 0.9460999965667725, 0.9476000070571899, 0.9476000070571899, 0.9538000226020813, 0.9010000228881836, 0.9538000226020813, 0.9538000226020813, 0.9538000226020813, 0.9538000226020813, 0.9538000226020813, 0.9538000226020813, 0.9538000226020813, 0.9538000226020813, 0.9538000226020813, 0.7229999899864197, 0.27810001373291016, 0.9538000226020813, 0.9538000226020813, 0.9538000226020813, 0.3961000144481659, 0.28220000863075256, -0.5917999744415283, 0.4778999984264374, 0.585099995136261, 0.47780001163482666, 0.47780001163482666, 0.47780001163482666, 0.47769999504089355, 0.47769999504089355, 0.47769999504089355, 1.6187000274658203, 1.562399983406067, 1.562399983406067, 1.562399983406067, 1.562399983406067, 1.562399983406067, 1.562399983406067, 1.381700038909912, 1.3553999662399292, 1.3553999662399292, 1.3553999662399292, 1.3553999662399292, 1.3553999662399292, 1.3553999662399292, 1.3553999662399292, 1.3553999662399292, 1.3553999662399292, 1.3553999662399292, 1.3553999662399292, 1.3553999662399292, 1.3553999662399292, 1.3553999662399292, 1.3553999662399292, 1.3553999662399292, 1.3553999662399292, 1.3553999662399292, 1.3553999662399292, 1.3553999662399292, 1.3553999662399292, 1.3553999662399292, 1.3553999662399292, 1.3553999662399292, 1.3553999662399292, 1.3553999662399292, 1.3553999662399292, 1.3116999864578247, 1.3553999662399292, 1.3553999662399292, 1.1354999542236328, 1.3553999662399292, 1.3553999662399292, 0.8159999847412109, 1.0115000009536743, 1.3553999662399292, 0.491100013256073, -0.016499999910593033, -0.10890000313520432, 0.842199981212616, 0.842199981212616, 0.842199981212616, 0.842199981212616, 0.27970001101493835, 1.9420000314712524, 1.9420000314712524, 1.8393000364303589, 1.8393000364303589, 1.8393000364303589, 1.8393000364303589, 1.8393000364303589, 1.8393000364303589, 1.6079000234603882, 1.6079000234603882, 1.6079000234603882, 1.6079000234603882, 1.6079000234603882, 1.6079000234603882, 1.6079000234603882, 1.6079000234603882, 1.6079000234603882, 1.6079000234603882, 1.6079000234603882, 1.6079000234603882, 1.6079000234603882, 1.6079000234603882, 1.6079000234603882, 1.6079000234603882, 1.6079000234603882, 1.6079000234603882, 1.6079000234603882, 1.6079000234603882, 1.6079000234603882, 1.6079000234603882, 1.6079000234603882, 1.6079000234603882, 1.6079000234603882, 1.6079000234603882, 1.6079000234603882, 1.6079000234603882, 1.6079000234603882, 1.6079000234603882, 1.6079000234603882, 1.4783999919891357, 1.243299961090088, 1.2138999700546265, 0.675599992275238, -0.3725000023841858, 0.35370001196861267, 0.753600001335144, 0.5898000001907349, 0.16680000722408295, 1.1181000471115112, 1.1181000471115112, 1.1857999563217163, 0.8899000287055969, 0.45910000801086426, 1.273900032043457, 2.1407999992370605, 2.025599956512451, 2.025599956512451, 2.025599956512451, 1.9168000221252441, 1.770799994468689, 1.770799994468689, 1.770799994468689, 1.770799994468689, 1.770799994468689, 1.770799994468689, 1.770799994468689, 1.770799994468689, 1.770799994468689, 1.770799994468689, 1.770799994468689, 1.770799994468689, 1.770799994468689, 1.770799994468689, 1.770799994468689, 1.770799994468689, 1.770799994468689, 1.770799994468689, 1.770799994468689, 1.770799994468689, 1.770799994468689, 1.770799994468689, 1.770799994468689, 1.770799994468689, 1.770799994468689, 1.770799994468689, 1.770799994468689, 1.770799994468689, 1.770799994468689, 1.770799994468689, 1.770799994468689, 1.770799994468689, 1.5961999893188477, 1.1232999563217163, 1.2573000192642212, 1.257200002670288], \"Freq\": [12.0, 5.0, 3.0, 9.0, 5.0, 4.0, 6.0, 9.0, 1.0, 20.0, 2.0, 2.0, 3.0, 8.0, 2.0, 3.0, 5.0, 2.0, 3.0, 3.0, 5.0, 1.0, 1.0, 1.0, 2.0, 1.0, 1.0, 1.0, 1.0, 1.0, 8.632034301757812, 2.4662938117980957, 2.4662938117980957, 2.4662938117980957, 2.466294527053833, 2.466294527053833, 2.466294050216675, 2.4662926197052, 2.466292142868042, 7.0916547775268555, 1.6955772638320923, 1.6955772638320923, 1.6955772638320923, 1.6955772638320923, 1.6955769062042236, 1.695576548576355, 1.6955763101577759, 1.6955761909484863, 1.6955749988555908, 1.6955749988555908, 1.6955749988555908, 1.6955727338790894, 1.695569396018982, 6.320377349853516, 15.570768356323242, 2.4663093090057373, 2.4662694931030273, 2.466386079788208, 4.008347034454346, 2.466355323791504, 5.549164772033691, 2.466629981994629, 3.235755681991577, 2.4652435779571533, 2.4655444622039795, 2.464688777923584, 1.6957234144210815, 1.6956932544708252, 1.695605993270874, 1.695600986480713, 1.6955848932266235, 2.850064754486084, 2.8500638008117676, 1.4928902387619019, 1.4928901195526123, 1.4928898811340332, 1.4928901195526123, 1.4928901195526123, 8.959392547607422, 0.8143031001091003, 0.8143031001091003, 0.8143029808998108, 0.8143031001091003, 0.8143031001091003, 0.8143031001091003, 0.8143031001091003, 0.8143029808998108, 0.8143031001091003, 0.8143031001091003, 0.8143031001091003, 0.8143031001091003, 0.8143029808998108, 0.8143031001091003, 0.8143031001091003, 0.8143031001091003, 0.8143031001091003, 0.8143031001091003, 0.8143029808998108, 0.8143031001091003, 0.8143031001091003, 0.8143029808998108, 3.5289199352264404, 2.1716811656951904, 2.171675682067871, 0.8143029808998108, 5.5669708251953125, 0.8143031001091003, 0.8143031001091003, 0.8143031001091003, 0.8143031001091003, 0.8143029808998108, 0.8143029808998108, 0.8143029808998108, 0.8143029808998108, 0.8143029808998108, 1.4926282167434692, 2.8500685691833496, 0.814302921295166, 0.814302921295166, 0.814302921295166, 1.4929391145706177, 1.4928563833236694, 2.8488972187042236, 0.8144627809524536, 0.8143831491470337, 0.8143413662910461, 0.8143378496170044, 0.8143378496170044, 0.8143167495727539, 0.8143132925033569, 0.8143131732940674, 4.060276985168457, 1.2399910688400269, 1.2399910688400269, 1.2399907112121582, 1.2399907112121582, 1.2399907112121582, 1.2399905920028687, 2.9326138496398926, 0.6763578653335571, 0.6763579249382019, 0.6763578653335571, 0.6763578653335571, 0.6763578653335571, 0.6763578653335571, 0.6763578057289124, 0.6763578057289124, 0.6763578057289124, 0.6763578057289124, 0.6763578057289124, 0.6763578057289124, 0.6763578057289124, 0.6763578057289124, 0.6763578057289124, 0.6763578057289124, 0.6763578057289124, 0.6763578057289124, 0.6763578057289124, 0.6763577461242676, 0.6763577461242676, 0.6763577461242676, 0.6763577461242676, 0.6763577461242676, 0.6763577461242676, 0.6763577461242676, 0.6763577461242676, 1.2399426698684692, 0.6763577461242676, 0.6763577461242676, 1.803777813911438, 0.6763577461242676, 0.6763577461242676, 2.367764949798584, 1.2400168180465698, 0.6763577461242676, 1.2401745319366455, 1.2398531436920166, 1.239983081817627, 0.6763951182365417, 0.6763943433761597, 0.6763942837715149, 0.676388680934906, 0.6763871908187866, 1.5611672401428223, 1.5611672401428223, 1.0733025074005127, 1.0733026266098022, 1.0733023881912231, 1.0733025074005127, 1.0733023881912231, 1.0733023881912231, 0.5854374766349792, 0.5854374170303345, 0.5854374170303345, 0.5854374170303345, 0.5854374170303345, 0.5854374170303345, 0.5854374170303345, 0.5854374170303345, 0.5854374170303345, 0.5854374170303345, 0.5854374170303345, 0.5854374170303345, 0.5854374170303345, 0.5854374170303345, 0.5854374170303345, 0.5854374170303345, 0.5854374170303345, 0.5854374170303345, 0.5854374170303345, 0.5854374170303345, 0.5854374170303345, 0.5854374170303345, 0.5854374170303345, 0.5854374170303345, 0.5854374170303345, 0.5854374170303345, 0.5854374170303345, 0.5854374170303345, 0.5854374170303345, 0.5854374170303345, 0.5854374170303345, 1.073394775390625, 2.0504631996154785, 1.0734913349151611, 1.073810338973999, 1.5616196393966675, 1.0736603736877441, 0.5856024026870728, 0.5855883955955505, 0.5855716466903687, 0.585532009601593, 0.585532009601593, 0.58548903465271, 0.5854796171188354, 0.5854545831680298, 0.5854500532150269, 1.3618614673614502, 0.9362794160842896, 0.9362794160842896, 0.9362794160842896, 1.7878321409225464, 0.5106976628303528, 0.5106976628303528, 0.5106976628303528, 0.510697603225708, 0.510697603225708, 0.510697603225708, 0.510697603225708, 0.5106975436210632, 0.510697603225708, 0.5106974840164185, 0.5106974840164185, 0.5106974840164185, 0.5106974244117737, 0.5106974244117737, 0.5106974244117737, 0.5106974244117737, 0.5106974244117737, 0.5106974244117737, 0.5106974244117737, 0.5106974244117737, 0.5106974244117737, 0.5106974244117737, 0.5106973648071289, 0.5106973648071289, 0.5106960535049438, 0.5106960535049438, 0.5106960535049438, 0.5106960535049438, 0.5106960535049438, 0.5106960535049438, 0.5106960535049438, 0.5106960535049438, 0.936430811882019, 0.9363552331924438, 0.5107527375221252, 0.5107166171073914], \"Total\": [12.0, 5.0, 3.0, 9.0, 5.0, 4.0, 6.0, 9.0, 1.0, 20.0, 2.0, 2.0, 3.0, 8.0, 2.0, 3.0, 5.0, 2.0, 3.0, 3.0, 5.0, 1.0, 1.0, 1.0, 2.0, 1.0, 1.0, 1.0, 1.0, 1.0, 9.063176155090332, 2.897430419921875, 2.897430419921875, 2.897430419921875, 2.8974311351776123, 2.8974311351776123, 2.897430896759033, 2.897429943084717, 2.897429943084717, 8.764142990112305, 2.1267127990722656, 2.1267127990722656, 2.1267127990722656, 2.1267127990722656, 2.1267127990722656, 2.1267125606536865, 2.1267123222351074, 2.1267123222351074, 2.1267120838165283, 2.1267120838165283, 2.1267120838165283, 2.126711368560791, 2.1267101764678955, 8.304057121276855, 20.741559982299805, 3.3230204582214355, 3.385287284851074, 3.461088180541992, 5.681175231933594, 3.5760257244110107, 8.69465160369873, 4.13969612121582, 6.898019313812256, 5.000066757202148, 5.412102699279785, 12.144693374633789, 3.3689444065093994, 2.8053135871887207, 4.047536373138428, 3.5414934158325195, 4.535361289978027, 3.2996277809143066, 3.2996277809143066, 1.9424521923065186, 1.9424521923065186, 1.942452073097229, 1.9424521923065186, 1.942452311515808, 12.144693374633789, 1.2638646364212036, 1.2638646364212036, 1.263864517211914, 1.2638646364212036, 1.2638646364212036, 1.2638646364212036, 1.2638646364212036, 1.263864517211914, 1.2638646364212036, 1.2638646364212036, 1.2638646364212036, 1.2638646364212036, 1.263864517211914, 1.2638646364212036, 1.2638646364212036, 1.2638646364212036, 1.2638646364212036, 1.2638646364212036, 1.2638646364212036, 1.2638647556304932, 1.2638647556304932, 1.2638646364212036, 5.519614219665527, 3.3917288780212402, 3.3917300701141357, 1.2638646364212036, 9.108962059020996, 1.2638647556304932, 1.2638647556304932, 1.2638647556304932, 1.2638647556304932, 1.2638646364212036, 1.2638646364212036, 1.2638646364212036, 1.2638646364212036, 1.2638646364212036, 2.9181101322174072, 8.69465160369873, 1.2638646364212036, 1.2638646364212036, 1.2638646364212036, 4.047536373138428, 4.535361289978027, 20.741559982299805, 2.0345587730407715, 1.8275110721588135, 2.034576654434204, 2.0345771312713623, 2.0345773696899414, 2.0345797538757324, 2.0345804691314697, 2.0345802307128906, 5.300644874572754, 1.7125436067581177, 1.7125436067581177, 1.7125434875488281, 1.7125434875488281, 1.7125436067581177, 1.7125436067581177, 4.852130889892578, 1.1489105224609375, 1.1489105224609375, 1.1489105224609375, 1.1489105224609375, 1.1489105224609375, 1.1489105224609375, 1.1489105224609375, 1.1489105224609375, 1.1489105224609375, 1.1489105224609375, 1.1489105224609375, 1.1489105224609375, 1.1489105224609375, 1.1489105224609375, 1.1489105224609375, 1.1489105224609375, 1.1489105224609375, 1.1489105224609375, 1.1489105224609375, 1.148910403251648, 1.148910403251648, 1.148910403251648, 1.148910403251648, 1.148910403251648, 1.148910403251648, 1.148910403251648, 1.148910403251648, 2.2004029750823975, 1.148910403251648, 1.148910403251648, 3.817556142807007, 1.148910403251648, 1.148910403251648, 6.898019313812256, 2.9710302352905273, 1.148910403251648, 5.000066757202148, 8.304057121276855, 9.108962059020996, 1.9196137189865112, 1.919614553451538, 1.919614553451538, 1.919616460800171, 3.3689444065093994, 2.048874855041504, 2.048874855041504, 1.5610089302062988, 1.5610089302062988, 1.5610090494155884, 1.5610090494155884, 1.5610089302062988, 1.561009168624878, 1.0731432437896729, 1.0731432437896729, 1.0731432437896729, 1.0731432437896729, 1.0731432437896729, 1.0731432437896729, 1.0731432437896729, 1.0731432437896729, 1.0731432437896729, 1.0731432437896729, 1.0731432437896729, 1.0731432437896729, 1.0731432437896729, 1.0731433629989624, 1.0731433629989624, 1.0731433629989624, 1.0731433629989624, 1.0731433629989624, 1.0731433629989624, 1.0731433629989624, 1.0731433629989624, 1.0731433629989624, 1.0731433629989624, 1.0731433629989624, 1.0731433629989624, 1.0731433629989624, 1.073143482208252, 1.0731433629989624, 1.073143482208252, 1.0731433629989624, 1.0731433629989624, 2.239560604095459, 5.412102699279785, 2.9181101322174072, 5.000066757202148, 20.741559982299805, 6.898019313812256, 2.5223701000213623, 2.9710302352905273, 4.535361289978027, 1.7516934871673584, 1.7516934871673584, 1.6367683410644531, 2.2004029750823975, 3.385287284851074, 1.4987282752990723, 1.8620269298553467, 1.4364439249038696, 1.4364440441131592, 1.4364441633224487, 3.058011531829834, 1.0108606815338135, 1.0108606815338135, 1.0108606815338135, 1.010860800743103, 1.010860800743103, 1.010860800743103, 1.010860800743103, 1.010860800743103, 1.0108609199523926, 1.0108606815338135, 1.010860800743103, 1.010860800743103, 1.0108606815338135, 1.010860800743103, 1.010860800743103, 1.010860800743103, 1.0108609199523926, 1.0108609199523926, 1.0108609199523926, 1.0108609199523926, 1.0108609199523926, 1.0108609199523926, 1.0108609199523926, 1.0108609199523926, 1.0108611583709717, 1.0108611583709717, 1.0108611583709717, 1.0108611583709717, 1.0108611583709717, 1.0108611583709717, 1.0108611583709717, 1.0108611583709717, 2.2070388793945312, 3.5414934158325195, 1.689415693283081, 1.6894373893737793], \"logprob\": [30.0, 29.0, 28.0, 27.0, 26.0, 25.0, 24.0, 23.0, 22.0, 21.0, 20.0, 19.0, 18.0, 17.0, 16.0, 15.0, 14.0, 13.0, 12.0, 11.0, 10.0, 9.0, 8.0, 7.0, 6.0, 5.0, 4.0, 3.0, 2.0, 1.0, -3.467900037765503, -4.720699787139893, -4.720699787139893, -4.720699787139893, -4.720699787139893, -4.720699787139893, -4.720699787139893, -4.720699787139893, -4.720699787139893, -3.6644999980926514, -5.095399856567383, -5.095399856567383, -5.095399856567383, -5.095399856567383, -5.095399856567383, -5.095399856567383, -5.095399856567383, -5.095399856567383, -5.095399856567383, -5.095399856567383, -5.095399856567383, -5.095399856567383, -5.095399856567383, -3.779599905014038, -2.878000020980835, -4.720699787139893, -4.720699787139893, -4.720699787139893, -4.235000133514404, -4.720699787139893, -3.9098000526428223, -4.720600128173828, -4.44920015335083, -4.721099853515625, -4.7210001945495605, -4.721399784088135, -5.095300197601318, -5.095300197601318, -5.095399856567383, -5.095399856567383, -5.095399856567383, -4.087200164794922, -4.087200164794922, -4.733799934387207, -4.733799934387207, -4.733799934387207, -4.733799934387207, -4.733799934387207, -2.941800117492676, -5.340000152587891, -5.340000152587891, -5.340000152587891, -5.340000152587891, -5.340000152587891, -5.340000152587891, -5.340000152587891, -5.340000152587891, -5.340000152587891, -5.340000152587891, -5.340000152587891, -5.340000152587891, -5.340000152587891, -5.340000152587891, -5.340000152587891, -5.340000152587891, -5.340000152587891, -5.340000152587891, -5.340000152587891, -5.340000152587891, -5.340000152587891, -5.340000152587891, -3.873500108718872, -4.359000205993652, -4.359000205993652, -5.340000152587891, -3.4177000522613525, -5.340000152587891, -5.340000152587891, -5.340000152587891, -5.340000152587891, -5.340000152587891, -5.340000152587891, -5.340000152587891, -5.340000152587891, -5.340000152587891, -4.734000205993652, -4.087200164794922, -5.340000152587891, -5.340000152587891, -5.340000152587891, -4.733799934387207, -4.733799934387207, -4.087600231170654, -5.339799880981445, -5.339900016784668, -5.339900016784668, -5.339900016784668, -5.339900016784668, -5.339900016784668, -5.339900016784668, -5.339900016784668, -3.2414000034332275, -4.427599906921387, -4.427599906921387, -4.427599906921387, -4.427599906921387, -4.427599906921387, -4.427599906921387, -3.566800117492676, -5.033699989318848, -5.033699989318848, -5.033699989318848, -5.033699989318848, -5.033699989318848, -5.033699989318848, -5.033699989318848, -5.033699989318848, -5.033699989318848, -5.033699989318848, -5.033699989318848, -5.033699989318848, -5.033699989318848, -5.033699989318848, -5.033699989318848, -5.033699989318848, -5.033699989318848, -5.033699989318848, -5.033699989318848, -5.033699989318848, -5.033699989318848, -5.033699989318848, -5.033699989318848, -5.033699989318848, -5.033699989318848, -5.033699989318848, -5.033699989318848, -4.427599906921387, -5.033699989318848, -5.033699989318848, -4.052800178527832, -5.033699989318848, -5.033699989318848, -3.7806999683380127, -4.427599906921387, -5.033699989318848, -4.4274001121521, -4.427700042724609, -4.427599906921387, -5.033699989318848, -5.033699989318848, -5.033699989318848, -5.033699989318848, -5.033699989318848, -3.8685998916625977, -3.8685998916625977, -4.243299961090088, -4.243299961090088, -4.243299961090088, -4.243299961090088, -4.243299961090088, -4.243299961090088, -4.8495001792907715, -4.8495001792907715, -4.8495001792907715, -4.8495001792907715, -4.8495001792907715, -4.8495001792907715, -4.8495001792907715, -4.8495001792907715, -4.8495001792907715, -4.8495001792907715, -4.8495001792907715, -4.8495001792907715, -4.8495001792907715, -4.8495001792907715, -4.8495001792907715, -4.8495001792907715, -4.8495001792907715, -4.8495001792907715, -4.8495001792907715, -4.8495001792907715, -4.8495001792907715, -4.8495001792907715, -4.8495001792907715, -4.8495001792907715, -4.8495001792907715, -4.8495001792907715, -4.8495001792907715, -4.8495001792907715, -4.8495001792907715, -4.8495001792907715, -4.8495001792907715, -4.243299961090088, -3.5959999561309814, -4.243199825286865, -4.2428998947143555, -3.8684000968933105, -4.243000030517578, -4.8491997718811035, -4.8491997718811035, -4.8491997718811035, -4.849299907684326, -4.849299907684326, -4.849400043487549, -4.849400043487549, -4.849400043487549, -4.8495001792907715, -3.765500068664551, -4.140200138092041, -4.140200138092041, -4.140200138092041, -3.4934000968933105, -4.746399879455566, -4.746399879455566, -4.746399879455566, -4.746399879455566, -4.746399879455566, -4.746399879455566, -4.746399879455566, -4.746399879455566, -4.746399879455566, -4.746399879455566, -4.746399879455566, -4.746399879455566, -4.746399879455566, -4.746399879455566, -4.746399879455566, -4.746399879455566, -4.746399879455566, -4.746399879455566, -4.746399879455566, -4.746399879455566, -4.746399879455566, -4.746399879455566, -4.746399879455566, -4.746399879455566, -4.746399879455566, -4.746399879455566, -4.746399879455566, -4.746399879455566, -4.746399879455566, -4.746399879455566, -4.746399879455566, -4.746399879455566, -4.140100002288818, -4.140100002288818, -4.746300220489502, -4.746300220489502]}};\n",
              "\n",
              "function LDAvis_load_lib(url, callback){\n",
              "  var s = document.createElement('script');\n",
              "  s.src = url;\n",
              "  s.async = true;\n",
              "  s.onreadystatechange = s.onload = callback;\n",
              "  s.onerror = function(){console.warn(\"failed to load library \" + url);};\n",
              "  document.getElementsByTagName(\"head\")[0].appendChild(s);\n",
              "}\n",
              "\n",
              "if(typeof(LDAvis) !== \"undefined\"){\n",
              "   // already loaded: just create the visualization\n",
              "   !function(LDAvis){\n",
              "       new LDAvis(\"#\" + \"ldavis_el771406688328256801495126919\", ldavis_el771406688328256801495126919_data);\n",
              "   }(LDAvis);\n",
              "}else if(typeof define === \"function\" && define.amd){\n",
              "   // require.js is available: use it to load d3/LDAvis\n",
              "   require.config({paths: {d3: \"https://cdnjs.cloudflare.com/ajax/libs/d3/3.5.5/d3.min\"}});\n",
              "   require([\"d3\"], function(d3){\n",
              "      window.d3 = d3;\n",
              "      LDAvis_load_lib(\"https://cdn.rawgit.com/bmabey/pyLDAvis/files/ldavis.v1.0.0.js\", function(){\n",
              "        new LDAvis(\"#\" + \"ldavis_el771406688328256801495126919\", ldavis_el771406688328256801495126919_data);\n",
              "      });\n",
              "    });\n",
              "}else{\n",
              "    // require.js not available: dynamically load d3 & LDAvis\n",
              "    LDAvis_load_lib(\"https://cdnjs.cloudflare.com/ajax/libs/d3/3.5.5/d3.min.js\", function(){\n",
              "         LDAvis_load_lib(\"https://cdn.rawgit.com/bmabey/pyLDAvis/files/ldavis.v1.0.0.js\", function(){\n",
              "                 new LDAvis(\"#\" + \"ldavis_el771406688328256801495126919\", ldavis_el771406688328256801495126919_data);\n",
              "            })\n",
              "         });\n",
              "}\n",
              "</script>"
            ],
            "text/plain": [
              "<IPython.core.display.HTML object>"
            ]
          },
          "metadata": {
            "tags": []
          },
          "execution_count": 370
        }
      ]
    }
  ]
}